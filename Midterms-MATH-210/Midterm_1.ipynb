{
 "cells": [
  {
   "cell_type": "markdown",
   "metadata": {
    "deletable": true,
    "editable": true
   },
   "source": [
    "# MATH 210 Midterm 1\n"
   ]
  },
  {
   "cell_type": "code",
   "execution_count": null,
   "metadata": {
    "collapsed": true,
    "deletable": true,
    "editable": true
   },
   "outputs": [],
   "source": [
    "import numpy as np\n",
    "import matplotlib.pyplot as plt\n",
    "%matplotlib inline"
   ]
  },
  {
   "cell_type": "markdown",
   "metadata": {
    "deletable": true,
    "editable": true
   },
   "source": [
    "## Question 1"
   ]
  },
  {
   "cell_type": "markdown",
   "metadata": {
    "deletable": true,
    "editable": true
   },
   "source": [
    "$$\n",
    "\\tan \\left(\\frac{\\pi x}{2} \\right) = \\frac{4x}{\\pi} \\sum_{k=1}^{\\infty}\n",
    "\\frac{1}{(2k-1)^2 - x^2}\n",
    "$$"
   ]
  },
  {
   "cell_type": "code",
   "execution_count": null,
   "metadata": {
    "collapsed": false,
    "deletable": true,
    "editable": true
   },
   "outputs": [],
   "source": [
    "def k_sum(x,N):\n",
    "    if x >= 1 and  x <= (2*N-1):\n",
    "        print('Error: x is in interval [1,2N-1]')\n",
    "        return None\n",
    "    else:\n",
    "        series = ((4*x)/np.pi) * sum([1/(((2*k-1)**2)-x**2) for k in range(1,N+1)])\n",
    "        return series"
   ]
  },
  {
   "cell_type": "code",
   "execution_count": null,
   "metadata": {
    "collapsed": false,
    "deletable": true,
    "editable": true
   },
   "outputs": [],
   "source": [
    "k_sum(10,6)"
   ]
  },
  {
   "cell_type": "code",
   "execution_count": null,
   "metadata": {
    "collapsed": false,
    "deletable": true,
    "editable": true
   },
   "outputs": [],
   "source": [
    "k_sum(12,6)"
   ]
  },
  {
   "cell_type": "markdown",
   "metadata": {
    "deletable": true,
    "editable": true
   },
   "source": [
    "## Question 2"
   ]
  },
  {
   "cell_type": "markdown",
   "metadata": {
    "deletable": true,
    "editable": true
   },
   "source": [
    "$$\n",
    "\\frac{2}{\\pi} = \\sqrt\\frac{1}{2} \\cdot \\sqrt{\\frac{1}{2}+\\frac{1}{2}\\sqrt\\frac{1}{2}} \\cdot\n",
    "\\sqrt{\\frac{1}{2}+\\frac{1}{2}\\sqrt{\\frac{1}{2}+\\frac{1}{2}\\sqrt{\\frac{1}{2}}}} \\dotsb\n",
    "$$"
   ]
  },
  {
   "cell_type": "code",
   "execution_count": null,
   "metadata": {
    "collapsed": false,
    "deletable": true,
    "editable": true
   },
   "outputs": [],
   "source": [
    "def a_product(d,N):\n",
    "    a_k = d**0.5\n",
    "    for k in range(0,N+1):\n",
    "        a_k = a_k * (d+(a_k*d))**0.5\n",
    "        return a_k"
   ]
  },
  {
   "cell_type": "code",
   "execution_count": null,
   "metadata": {
    "collapsed": false,
    "deletable": true,
    "editable": true
   },
   "outputs": [],
   "source": [
    "a_product(0.5,100000)"
   ]
  },
  {
   "cell_type": "code",
   "execution_count": null,
   "metadata": {
    "collapsed": false,
    "deletable": true,
    "editable": true
   },
   "outputs": [],
   "source": [
    "2/np.pi"
   ]
  },
  {
   "cell_type": "markdown",
   "metadata": {
    "deletable": true,
    "editable": true
   },
   "source": [
    "## Question 3"
   ]
  },
  {
   "cell_type": "code",
   "execution_count": null,
   "metadata": {
    "collapsed": false,
    "deletable": true,
    "editable": true
   },
   "outputs": [],
   "source": [
    "def b_product(b):\n",
    "    product = 1\n",
    "    N = len(b)\n",
    "    for k in range(1,N+1):\n",
    "        product = product*(1+((b[k-1]**2)/k))\n",
    "    return product"
   ]
  },
  {
   "cell_type": "code",
   "execution_count": null,
   "metadata": {
    "collapsed": false,
    "deletable": true,
    "editable": true
   },
   "outputs": [],
   "source": [
    "b_product([1,2,3])"
   ]
  },
  {
   "cell_type": "code",
   "execution_count": null,
   "metadata": {
    "collapsed": false,
    "deletable": true,
    "editable": true
   },
   "outputs": [],
   "source": [
    "b_product([5,2])"
   ]
  },
  {
   "cell_type": "markdown",
   "metadata": {
    "deletable": true,
    "editable": true
   },
   "source": [
    "## Question 4"
   ]
  },
  {
   "cell_type": "code",
   "execution_count": null,
   "metadata": {
    "collapsed": true,
    "deletable": true,
    "editable": true
   },
   "outputs": [],
   "source": [
    "def sum_plot(alpha,N,a,b):\n",
    "    x = np.linspace(a,b,1000)\n",
    "    y = sum([(((-1)**k)*np.cos(2*np.pi*k*x))/(k**2+alpha**2) for k in range (1,N+1)])\n",
    "    plt.plot(x,y); plt.xlim(a,b);"
   ]
  },
  {
   "cell_type": "code",
   "execution_count": null,
   "metadata": {
    "collapsed": false,
    "deletable": true,
    "editable": true
   },
   "outputs": [],
   "source": [
    "sum_plot(2,5,1,4)"
   ]
  },
  {
   "cell_type": "code",
   "execution_count": null,
   "metadata": {
    "collapsed": false,
    "deletable": true,
    "editable": true
   },
   "outputs": [],
   "source": [
    "sum_plot(6,9,1,10)"
   ]
  },
  {
   "cell_type": "markdown",
   "metadata": {
    "deletable": true,
    "editable": true
   },
   "source": [
    "## Question 5"
   ]
  },
  {
   "cell_type": "code",
   "execution_count": null,
   "metadata": {
    "collapsed": false,
    "deletable": true,
    "editable": true
   },
   "outputs": [],
   "source": [
    "def c_sequence(a,b):\n",
    "    n = len(a)\n",
    "    c_list = []\n",
    "    c_n = 0\n",
    "    for k in range(0,n):\n",
    "        c_n = c_n + a[k]*b[n-k-1]\n",
    "        c_list.append(c_n)\n",
    "    return c_list"
   ]
  },
  {
   "cell_type": "code",
   "execution_count": null,
   "metadata": {
    "collapsed": false,
    "deletable": true,
    "editable": true
   },
   "outputs": [],
   "source": [
    "c_sequence([1,2],[4,5])"
   ]
  },
  {
   "cell_type": "code",
   "execution_count": null,
   "metadata": {
    "collapsed": false,
    "deletable": true,
    "editable": true
   },
   "outputs": [],
   "source": [
    "c_sequence([1,2,3],[4,5,6])"
   ]
  },
  {
   "cell_type": "markdown",
   "metadata": {
    "deletable": true,
    "editable": true
   },
   "source": [
    "## Question 6"
   ]
  },
  {
   "cell_type": "code",
   "execution_count": null,
   "metadata": {
    "collapsed": false,
    "deletable": true,
    "editable": true
   },
   "outputs": [],
   "source": [
    "def parametric_plots(a,k):\n",
    "    N = len(a)\n",
    "    for n in range(1,N+1):\n",
    "        plt.subplot(1,N,n)\n",
    "        t = np.linspace(0,2*np.pi,100)\n",
    "        x = 2*k[n-1]*np.cos(t)-a[n-1]*np.cos(k[n-1]*t)\n",
    "        y = 2*k[n-1]*np.sin(t)-a[n-1]*np.sin(k[n-1]*t)\n",
    "        plt.plot(x,y); plt.tight_layout(); plt.axis('equal'); \n",
    "        plt.title('a='+str(a[n-1])+';k='+str(k[n-1]));"
   ]
  },
  {
   "cell_type": "code",
   "execution_count": null,
   "metadata": {
    "collapsed": false,
    "deletable": true,
    "editable": true
   },
   "outputs": [],
   "source": [
    "parametric_plots([1,2,3],[4,5,6])"
   ]
  },
  {
   "cell_type": "code",
   "execution_count": null,
   "metadata": {
    "collapsed": false,
    "deletable": true,
    "editable": true
   },
   "outputs": [],
   "source": [
    "parametric_plots([2,7,9,14],[6,7,8,9])"
   ]
  },
  {
   "cell_type": "markdown",
   "metadata": {
    "deletable": true,
    "editable": true
   },
   "source": [
    "## Question 7"
   ]
  },
  {
   "cell_type": "code",
   "execution_count": null,
   "metadata": {
    "collapsed": true,
    "deletable": true,
    "editable": true
   },
   "outputs": [],
   "source": [
    "def is_prime(N):\n",
    "    \"Determine whether or not N is a prime number.\"\n",
    "    if N <= 1:\n",
    "        return False\n",
    "    for d in range(2,N):\n",
    "        if N % d == 0:\n",
    "            return False\n",
    "    return True"
   ]
  },
  {
   "cell_type": "code",
   "execution_count": null,
   "metadata": {
    "collapsed": true,
    "deletable": true,
    "editable": true
   },
   "outputs": [],
   "source": [
    "def divisors(N):\n",
    "    \"\"\"Return the list of divisors of N.\"\"\"\n",
    "    divisor_list = [1]\n",
    "    for d in range(2,N// 2 + 1):\n",
    "        if N % d == 0:\n",
    "            divisor_list.append(d)\n",
    "    divisor_list.append(N)\n",
    "    return divisor_list"
   ]
  },
  {
   "cell_type": "code",
   "execution_count": null,
   "metadata": {
    "collapsed": true,
    "deletable": true,
    "editable": true
   },
   "outputs": [],
   "source": [
    "def prime_divisors(N):\n",
    "    \"\"\"Returns the list of prime numbers which divide N.\"\"\"\n",
    "    divisor_list = divisors(N)\n",
    "    prime_list = []\n",
    "    for n in divisor_list:\n",
    "        if is_prime(n):\n",
    "            prime_list.append(n) \n",
    "    return prime_list"
   ]
  },
  {
   "cell_type": "code",
   "execution_count": null,
   "metadata": {
    "collapsed": false,
    "deletable": true,
    "editable": true
   },
   "outputs": [],
   "source": [
    "def f_plot(N):\n",
    "    f_n = 1\n",
    "    x = [1]\n",
    "    for n in range(1,N+1):\n",
    "        divs = prime_divisors(n)\n",
    "        for p in divs:\n",
    "            f_n = n*f_n*(1-(1/p))\n",
    "            x.append(f_n)\n",
    "            plt.scatter(n,f_n)\n",
    "    return x"
   ]
  },
  {
   "cell_type": "code",
   "execution_count": null,
   "metadata": {
    "collapsed": false,
    "deletable": true,
    "editable": true
   },
   "outputs": [],
   "source": [
    "f_plot(4)"
   ]
  },
  {
   "cell_type": "markdown",
   "metadata": {
    "deletable": true,
    "editable": true
   },
   "source": [
    "## Question 8"
   ]
  },
  {
   "cell_type": "code",
   "execution_count": null,
   "metadata": {
    "collapsed": false,
    "deletable": true,
    "editable": true
   },
   "outputs": [],
   "source": [
    "def quad_reps(a,b,c,n):\n",
    "    a_list = []\n",
    "    if a<0 or b<0 or c<0 or n<0:\n",
    "        print('Error: Parameters must not be less than 0.')\n",
    "        return\n",
    "    else:\n",
    "        for x in range(1,round(n**0.5)+1):\n",
    "            for y in range(1,round(n**0.5)+1):\n",
    "                if a*(x**2)+(b*x*y)+c*(y**2) == n:\n",
    "                    a_list.append((x,y)) \n",
    "        return a_list"
   ]
  },
  {
   "cell_type": "code",
   "execution_count": null,
   "metadata": {
    "collapsed": false,
    "deletable": true,
    "editable": true
   },
   "outputs": [],
   "source": [
    "quad_reps(1,0,1,5)"
   ]
  },
  {
   "cell_type": "code",
   "execution_count": null,
   "metadata": {
    "collapsed": false,
    "deletable": true,
    "editable": true
   },
   "outputs": [],
   "source": [
    "quad_reps(3,2,2,378)"
   ]
  },
  {
   "cell_type": "code",
   "execution_count": null,
   "metadata": {
    "collapsed": false,
    "deletable": true,
    "editable": true
   },
   "outputs": [],
   "source": [
    "quad_reps(1,1,3,1)"
   ]
  },
  {
   "cell_type": "code",
   "execution_count": null,
   "metadata": {
    "collapsed": true
   },
   "outputs": [],
   "source": []
  }
 ],
 "metadata": {
  "kernelspec": {
   "display_name": "Python 3",
   "language": "python",
   "name": "python3"
  },
  "language_info": {
   "codemirror_mode": {
    "name": "ipython",
    "version": 3
   },
   "file_extension": ".py",
   "mimetype": "text/x-python",
   "name": "python",
   "nbconvert_exporter": "python",
   "pygments_lexer": "ipython3",
   "version": "3.5.2"
  }
 },
 "nbformat": 4,
 "nbformat_minor": 2
}
