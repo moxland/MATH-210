{
 "cells": [
  {
   "cell_type": "code",
   "execution_count": 1,
   "metadata": {
    "collapsed": true,
    "deletable": true,
    "editable": true
   },
   "outputs": [],
   "source": [
    "import numpy as np\n",
    "import matplotlib.pyplot as plt\n",
    "%matplotlib inline"
   ]
  },
  {
   "cell_type": "markdown",
   "metadata": {
    "deletable": true,
    "editable": true
   },
   "source": [
    "**QUESTION 1**"
   ]
  },
  {
   "cell_type": "markdown",
   "metadata": {
    "deletable": true,
    "editable": true
   },
   "source": [
    "$$\n",
    "\\tan \\left( \\frac{\\pi x}{2} \\right) = \\frac{4 x}{\\pi} \\sum_{k=1}^{\\infty} \\frac{1}{(2k - 1)^2 -x^2}\n",
    "$$\n",
    "\n",
    "```\n",
    "\\tan \\left( \\frac{\\pi x}{2} \\right) = \\frac{4 x}{\\pi} \\sum_{k=1}^{\\infty} \\frac{1}{(2k - 1)^2 -x^2}\n",
    "```"
   ]
  },
  {
   "cell_type": "code",
   "execution_count": 2,
   "metadata": {
    "collapsed": true,
    "deletable": true,
    "editable": true
   },
   "outputs": [],
   "source": [
    "def k_sum(x,N):\n",
    "    if x >= 1 and x <= 2*N-1 and (x-1) % 2 == 0:\n",
    "        print('Error: x cannot be an odd integer in the interval [1,2N-1]')\n",
    "        return None\n",
    "    else:\n",
    "        k = np.arange(1,N+1)\n",
    "        return 4*x/np.pi * np.sum(1/((2*k - 1)**2 - x**2))"
   ]
  },
  {
   "cell_type": "code",
   "execution_count": 3,
   "metadata": {
    "collapsed": false,
    "deletable": true,
    "editable": true
   },
   "outputs": [
    {
     "name": "stdout",
     "output_type": "stream",
     "text": [
      "Error: x cannot be an odd integer in the interval [1,2N-1]\n"
     ]
    }
   ],
   "source": [
    "k_sum(3,10)"
   ]
  },
  {
   "cell_type": "code",
   "execution_count": 4,
   "metadata": {
    "collapsed": false,
    "deletable": true,
    "editable": true
   },
   "outputs": [
    {
     "data": {
      "text/plain": [
       "0.99984084506685555"
      ]
     },
     "execution_count": 4,
     "metadata": {},
     "output_type": "execute_result"
    }
   ],
   "source": [
    "k_sum(1/2,1000)"
   ]
  },
  {
   "cell_type": "code",
   "execution_count": 5,
   "metadata": {
    "collapsed": false,
    "deletable": true,
    "editable": true
   },
   "outputs": [
    {
     "data": {
      "text/plain": [
       "1.7318386009879119"
      ]
     },
     "execution_count": 5,
     "metadata": {},
     "output_type": "execute_result"
    }
   ],
   "source": [
    "k_sum(2/3,1000)"
   ]
  },
  {
   "cell_type": "code",
   "execution_count": 6,
   "metadata": {
    "collapsed": false,
    "deletable": true,
    "editable": true
   },
   "outputs": [
    {
     "data": {
      "text/plain": [
       "1.7320508075688772"
      ]
     },
     "execution_count": 6,
     "metadata": {},
     "output_type": "execute_result"
    }
   ],
   "source": [
    "np.sqrt(3)"
   ]
  },
  {
   "cell_type": "markdown",
   "metadata": {
    "deletable": true,
    "editable": true
   },
   "source": [
    "**QUESTION 2**"
   ]
  },
  {
   "cell_type": "markdown",
   "metadata": {
    "deletable": true,
    "editable": true
   },
   "source": [
    "$$\n",
    "\\frac{2}{\\pi} = \\sqrt{ \\frac{1}{2} } \\cdot \\sqrt{ \\frac{1}{2} + \\frac{1}{2} \\sqrt{\\frac{1}{2}}}  \\cdot \\sqrt{ \\frac{1}{2} + \\frac{1}{2} \\sqrt{ \\frac{1}{2} + \\frac{1}{2} \\sqrt{\\frac{1}{2}}} } \\ \\cdots\n",
    "$$\n",
    "\n",
    "```\n",
    "\\frac{2}{\\pi} = \\sqrt{ \\frac{1}{2} } \\cdot \\sqrt{ \\frac{1}{2} + \\frac{1}{2} \\sqrt{\\frac{1}{2}}} \n",
    "\\cdot \\sqrt{ \\frac{1}{2} + \\frac{1}{2} \\sqrt{ \\frac{1}{2} + \\frac{1}{2} \\sqrt{\\frac{1}{2}}} } \\ \\cdots\n",
    "```"
   ]
  },
  {
   "cell_type": "code",
   "execution_count": 7,
   "metadata": {
    "collapsed": true,
    "deletable": true,
    "editable": true
   },
   "outputs": [],
   "source": [
    "def a_product(d,N):\n",
    "    a = [np.sqrt(d)]\n",
    "    for n in range(1,N+1):\n",
    "        a.append(np.sqrt(d + d*a[n-1]))\n",
    "    return np.array(a).prod()"
   ]
  },
  {
   "cell_type": "code",
   "execution_count": 8,
   "metadata": {
    "collapsed": false,
    "deletable": true,
    "editable": true
   },
   "outputs": [
    {
     "data": {
      "text/plain": [
       "0.63661977236758116"
      ]
     },
     "execution_count": 8,
     "metadata": {},
     "output_type": "execute_result"
    }
   ],
   "source": [
    "a_product(1/2,100)"
   ]
  },
  {
   "cell_type": "code",
   "execution_count": 9,
   "metadata": {
    "collapsed": false,
    "deletable": true,
    "editable": true
   },
   "outputs": [
    {
     "data": {
      "text/plain": [
       "0.6366197723675814"
      ]
     },
     "execution_count": 9,
     "metadata": {},
     "output_type": "execute_result"
    }
   ],
   "source": [
    "2/np.pi"
   ]
  },
  {
   "cell_type": "markdown",
   "metadata": {
    "deletable": true,
    "editable": true
   },
   "source": [
    "**QUESTION 3**"
   ]
  },
  {
   "cell_type": "code",
   "execution_count": 10,
   "metadata": {
    "collapsed": false,
    "deletable": true,
    "editable": true
   },
   "outputs": [],
   "source": [
    "def b_product(b):\n",
    "    k = np.arange(1,len(b)+1)\n",
    "    return np.prod(1 + b**2/k)"
   ]
  },
  {
   "cell_type": "code",
   "execution_count": 11,
   "metadata": {
    "collapsed": false,
    "deletable": true,
    "editable": true
   },
   "outputs": [
    {
     "data": {
      "text/plain": [
       "4.0"
      ]
     },
     "execution_count": 11,
     "metadata": {},
     "output_type": "execute_result"
    }
   ],
   "source": [
    "b_product(np.ones(3))"
   ]
  },
  {
   "cell_type": "code",
   "execution_count": 12,
   "metadata": {
    "collapsed": false,
    "deletable": true,
    "editable": true
   },
   "outputs": [
    {
     "data": {
      "text/plain": [
       "4.0"
      ]
     },
     "execution_count": 12,
     "metadata": {},
     "output_type": "execute_result"
    }
   ],
   "source": [
    "(1+1)*(1+1/2)*(1+1/3)"
   ]
  },
  {
   "cell_type": "markdown",
   "metadata": {
    "deletable": true,
    "editable": true
   },
   "source": [
    "**QUESTION 4**"
   ]
  },
  {
   "cell_type": "code",
   "execution_count": 13,
   "metadata": {
    "collapsed": true,
    "deletable": true,
    "editable": true
   },
   "outputs": [],
   "source": [
    "def sum_plot(alpha,N,a,b):\n",
    "    x = np.linspace(a,b,(b - a)*200)\n",
    "    y = sum([(-1)**k * np.cos(2*np.pi*k*x)/(k**2 + alpha**2) for k in range(1,N+1)])\n",
    "    plt.plot(x,y), plt.xlim([a,b])"
   ]
  },
  {
   "cell_type": "code",
   "execution_count": 14,
   "metadata": {
    "collapsed": false,
    "deletable": true,
    "editable": true
   },
   "outputs": [
    {
     "data": {
      "image/png": "[encoded data removed]",
      "text/plain": [
       "<matplotlib.figure.Figure at 0x7f7d77135ba8>"
      ]
     },
     "metadata": {},
     "output_type": "display_data"
    }
   ],
   "source": [
    "sum_plot(8,10,0,2)"
   ]
  },
  {
   "cell_type": "markdown",
   "metadata": {
    "deletable": true,
    "editable": true
   },
   "source": [
    "**QUESTION 5**"
   ]
  },
  {
   "cell_type": "code",
   "execution_count": 15,
   "metadata": {
    "collapsed": true,
    "deletable": true,
    "editable": true
   },
   "outputs": [],
   "source": [
    "def c_sequence(a,b):\n",
    "    c = []\n",
    "    for n in range(0,len(a)):\n",
    "        c.append(sum([a[k]*b[n - k] for k in range(0,n+1)]))\n",
    "    return c"
   ]
  },
  {
   "cell_type": "code",
   "execution_count": 16,
   "metadata": {
    "collapsed": false,
    "deletable": true,
    "editable": true
   },
   "outputs": [
    {
     "data": {
      "text/plain": [
       "[1.0, 2.0, 3.0, 4.0, 5.0, 6.0, 7.0, 8.0, 9.0, 10.0]"
      ]
     },
     "execution_count": 16,
     "metadata": {},
     "output_type": "execute_result"
    }
   ],
   "source": [
    "c_sequence(np.ones(10),np.ones(10))"
   ]
  },
  {
   "cell_type": "markdown",
   "metadata": {
    "deletable": true,
    "editable": true
   },
   "source": [
    "**QUESTION 6**"
   ]
  },
  {
   "cell_type": "code",
   "execution_count": 17,
   "metadata": {
    "collapsed": false,
    "deletable": true,
    "editable": true
   },
   "outputs": [],
   "source": [
    "def parametric_plots(a,k):\n",
    "    t = np.linspace(0,2*np.pi,200)\n",
    "    N = len(a)\n",
    "    plt.figure(figsize=(16,max(1,15//N)))\n",
    "    for n in range(0,N):\n",
    "        plt.subplot(1,N,n+1)\n",
    "        x = 2*k[n]*np.cos(t) - a[n]*np.cos(k[n]*t)\n",
    "        y = 2*k[n]*np.sin(t) - a[n]*np.sin(k[n]*t)\n",
    "        plt.plot(x,y), plt.title('(a,k)=({0},{1})'.format(a[n],k[n])), plt.axis('equal'), plt.axis('off')"
   ]
  },
  {
   "cell_type": "code",
   "execution_count": 18,
   "metadata": {
    "collapsed": false,
    "deletable": true,
    "editable": true
   },
   "outputs": [
    {
     "data": {
      "image/png": "[encoded data removed]",
      "text/plain": [
       "<matplotlib.figure.Figure at 0x7f7d77143ef0>"
      ]
     },
     "metadata": {},
     "output_type": "display_data"
    }
   ],
   "source": [
    "parametric_plots([10,2,-1,13],[9,2,10,-7])"
   ]
  },
  {
   "cell_type": "code",
   "execution_count": 19,
   "metadata": {
    "collapsed": false,
    "deletable": true,
    "editable": true
   },
   "outputs": [
    {
     "data": {
      "image/png": "[encoded data removed]",
      "text/plain": [
       "<matplotlib.figure.Figure at 0x7f7d76c78390>"
      ]
     },
     "metadata": {},
     "output_type": "display_data"
    }
   ],
   "source": [
    "a = np.random.randint(2,13,9)\n",
    "k = np.random.randint(2,13,9)\n",
    "parametric_plots(a,k)"
   ]
  },
  {
   "cell_type": "markdown",
   "metadata": {
    "deletable": true,
    "editable": true
   },
   "source": [
    "**QUESTION 7**"
   ]
  },
  {
   "cell_type": "code",
   "execution_count": 20,
   "metadata": {
    "collapsed": true,
    "deletable": true,
    "editable": true
   },
   "outputs": [],
   "source": [
    "def is_prime(n):\n",
    "    if n < 2:\n",
    "        return False\n",
    "    else:\n",
    "        for d in range(2,round(n**0.5)+1):\n",
    "            if n % d == 0:\n",
    "                return False\n",
    "        return True"
   ]
  },
  {
   "cell_type": "code",
   "execution_count": 21,
   "metadata": {
    "collapsed": true,
    "deletable": true,
    "editable": true
   },
   "outputs": [],
   "source": [
    "def f_plot(N):\n",
    "    primes = [n for n in range(2,N+1) if is_prime(n)]\n",
    "    y = [1]\n",
    "    for n in range(2,N+1):\n",
    "        divisors = [d for d in range(2,n+1) if n % d == 0]\n",
    "        prime_divisors = [d for d in divisors if d in primes]\n",
    "        prime_divisors = np.array(prime_divisors)\n",
    "        fn = n * np.prod(1 - 1/prime_divisors)\n",
    "        y.append(fn)\n",
    "    x = np.arange(1,N+1)\n",
    "    plt.figure(figsize=(12,5))\n",
    "    plt.scatter(x,y,s=2), plt.xlim([0,N])\n",
    "    return y"
   ]
  },
  {
   "cell_type": "code",
   "execution_count": 22,
   "metadata": {
    "collapsed": false,
    "deletable": true,
    "editable": true
   },
   "outputs": [
    {
     "data": {
      "image/png": "[encoded data removed]",
      "text/plain": [
       "<matplotlib.figure.Figure at 0x7f7d75df0a58>"
      ]
     },
     "metadata": {},
     "output_type": "display_data"
    }
   ],
   "source": [
    "f_plot(1000);"
   ]
  },
  {
   "cell_type": "markdown",
   "metadata": {
    "deletable": true,
    "editable": true
   },
   "source": [
    "**QUESTION 8**"
   ]
  },
  {
   "cell_type": "code",
   "execution_count": 23,
   "metadata": {
    "collapsed": true,
    "deletable": true,
    "editable": true
   },
   "outputs": [],
   "source": [
    "def quad_reps(a,b,c,n):\n",
    "    params = [a,b,c,n]\n",
    "    if min(params) < 0:\n",
    "        print('Input parameters must be positive integers.')\n",
    "        return None\n",
    "    if max([p % 1 for p in params]) > 0:\n",
    "        print('Input parameters must be positive integers.')\n",
    "        return None        \n",
    "    \n",
    "    reps = []\n",
    "    X = round((n/max([a,1]))**0.5) + 1\n",
    "    Y = round((n/max([c,1]))**0.5) + 1\n",
    "    for x in range(0,X):\n",
    "        for y in range(0,Y):\n",
    "            if a*x**2 + b*x*y + c*y**2 == n:\n",
    "                reps.append((x,y))\n",
    "    return reps"
   ]
  },
  {
   "cell_type": "code",
   "execution_count": 24,
   "metadata": {
    "collapsed": false,
    "deletable": true,
    "editable": true
   },
   "outputs": [
    {
     "data": {
      "text/plain": [
       "[(4, 11), (6, 9), (10, 3)]"
      ]
     },
     "execution_count": 24,
     "metadata": {},
     "output_type": "execute_result"
    }
   ],
   "source": [
    "quad_reps(3,2,2,378)"
   ]
  },
  {
   "cell_type": "code",
   "execution_count": 25,
   "metadata": {
    "collapsed": false,
    "deletable": true,
    "editable": true
   },
   "outputs": [
    {
     "data": {
      "text/plain": [
       "[(1, 14), (7, 2)]"
      ]
     },
     "execution_count": 25,
     "metadata": {},
     "output_type": "execute_result"
    }
   ],
   "source": [
    "quad_reps(4,3,1,242)"
   ]
  },
  {
   "cell_type": "code",
   "execution_count": 26,
   "metadata": {
    "collapsed": false,
    "deletable": true,
    "editable": true
   },
   "outputs": [
    {
     "name": "stdout",
     "output_type": "stream",
     "text": [
      "Input parameters must be positive integers.\n"
     ]
    }
   ],
   "source": [
    "quad_reps(1,1,1.1,1)"
   ]
  }
 ],
 "metadata": {
  "kernelspec": {
   "display_name": "Python 3",
   "language": "python",
   "name": "python3"
  },
  "language_info": {
   "codemirror_mode": {
    "name": "ipython",
    "version": 3
   },
   "file_extension": ".py",
   "mimetype": "text/x-python",
   "name": "python",
   "nbconvert_exporter": "python",
   "pygments_lexer": "ipython3",
   "version": "3.5.2"
  }
 },
 "nbformat": 4,
 "nbformat_minor": 2
}
