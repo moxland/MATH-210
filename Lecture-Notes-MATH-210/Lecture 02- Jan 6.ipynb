{
 "cells": [
  {
   "cell_type": "markdown",
   "metadata": {
    "collapsed": true
   },
   "source": [
    "# MATH 210 Introduction to Mathematical Computing\n",
    "\n",
    "## January 6, 2017\n",
    "\n",
    "Today's Agenda:\n",
    "1. Jupyter Notebooks\n",
    "2. Markdown Language\n",
    "3. LaTeX\n",
    "4. Exercises\n"
   ]
  },
  {
   "cell_type": "markdown",
   "metadata": {},
   "source": [
    "## 1. Jupyter Notebooks\n",
    "\n",
    "Check out the webpage [jupyter.org](http://jupyter.org). The Jupyter notebook is a web application that allows you to create and share documents that contain code, equations, images and text.\n",
    "\n",
    "See Help in the menu bar above for more information, keyboard shortcuts, and User Interface Tour. \n"
   ]
  },
  {
   "cell_type": "markdown",
   "metadata": {},
   "source": [
    "### Cells\n",
    "\n",
    "We will use two kinds of cells: markdown cells and code cells. Notice that the kind of cell is indicated in the toolbar above.\n",
    "\n",
    "Hit shift + enter to execute the contents of a cell.\n",
    "\n",
    "**Markdown cells** contain:\n",
    "* Markdown code\n",
    "* HTML\n",
    "* LaTeX\n",
    "* Plain text\n",
    "* Images\n",
    "* Videos\n",
    "* *Anything* that a browser can understand\n",
    "\n",
    "For more information on Markdown, google it or see [this post](https://daringfireball.net/projects/markdown/). \n"
   ]
  },
  {
   "cell_type": "markdown",
   "metadata": {},
   "source": [
    "### Modes\n",
    "\n",
    "There are 2 modes: **edit mode** and **command mode**. Press ESC to enter command mode and ENTER for edit mode. \n",
    "\n",
    "Edit mode allows you to write code, text, markdown, etc. in the cell. The green border indicates when the cell is in edit mode.\n",
    "\n",
    "Command mode allows you to enter keyboard shortcuts to edit the notebook itself. For example:\n",
    "* hitting s in command mode saves the notebook\n",
    "* hitting x in command mode cuts the active cell\n",
    "* hitting a in command mode inserts a new cell above the active cell\n",
    "\n",
    "See Help in the menu bar for more keyboard shortcuts ."
   ]
  },
  {
   "cell_type": "markdown",
   "metadata": {},
   "source": [
    "## 2. Markdown Language\n",
    "\n",
    "[Markdown language](https://en.wikipedia.org/wiki/Markdown) is an easy-to-read text format which converts to HTML.\n",
    "\n",
    "A few features of markdown:\n",
    "* create *italics* with asterisks `*italics*`\n",
    "* create **bold text** with double asterisks `**bold text**`\n",
    "* enclose text in backticks \\`..\\` to display plain text with no formatting\n",
    "* create a link [UBC Math](http://www.math.ubc.ca) with brackets `[UBC Math](http://www.math.ubc.ca)`\n",
    "* bold and italic `** *word* **`\n",
    "* display an image similar to a link but with a leading !\n",
    "\n",
    "![Python Logo](http://metinsaylan.com/wp-content/uploads/2016/03/Python_logo.png)\n",
    "\n",
    "(Image courtesy of [python.org](http://python.org))\n",
    "* create headings with hashtags `#` can do 1 (largest) to 6 (smallest)\n",
    "* create ordered lists with numbers and unordered lists with asterisks. For example:\n",
    "\n",
    "    * Math\n",
    "      1. Math 210\n",
    "      2. Math 100\n",
    "      3. Math 104 \n",
    "    * Engg\n",
    "      1. Engg 221\n",
    "      2. Engg 222\n",
    "  "
   ]
  },
  {
   "cell_type": "markdown",
   "metadata": {},
   "source": [
    "## 3. LaTeX\n",
    "\n",
    "LaTeX is a typesetting language for mathematics. We are going to use a small part of LaTeX to display math equations in Jupyter notebooks. See the [LaTeX WikiBook](https://en.wikibooks.org/wiki/LaTeX) for more inforamation. Especially the section on [mathematics](https://en.wikibooks.org/wiki/LaTeX/Mathematics). \n",
    "\n",
    "Enclose LaTeX code with dollar signs \\$ ... \\$ to display math equations inline. For example, the code `$\\int_a^b f(x) dx = F(b) - F(a)$` renders as $\\int_a^b f(x) dx = F(b) - F(a)$. \n",
    "\n",
    "Enclose LaTeX code with double dollar signs \\$\\$ ... \\$\\$ to display math equations in a separate paragraph. For example, the code `$$\\int_a^b f(x) dx = F(b) - F(a)$$` renders as $$\\int_a^b f(x) dx = F(b) - F(a)$$"
   ]
  },
  {
   "cell_type": "markdown",
   "metadata": {
    "collapsed": true
   },
   "source": [
    "## 4. Exercises\n",
    "\n",
    "###### 1. Top 5 Websites \n",
    "   1. [Facebook](http://facebook.com)\n",
    "   2. [Buzzfeed](http://www.buzzfeed.com)\n",
    "   3. [Youtube](http://www.youtube.com)\n",
    "   4. [Connect](https://connect.ubc.ca)\n",
    "   5. [UBC SSC](https://ssc.adm.ubc.ca)"
   ]
  },
  {
   "cell_type": "markdown",
   "metadata": {},
   "source": [
    "###### 2. Top 5 Scientists\n",
    "   1. [Issac Newton](https://en.wikipedia.org/wiki/Isaac_Newton)\n",
    "       ![Newton](https://pbs.twimg.com/profile_images/430417569124601856/kVq4lXGW_reasonably_small.jpeg)\n",
    "   2. [Galileo](https://en.wikipedia.org/wiki/Galileo_Galilei)\n",
    "      ![Galileo](https://cdn.thingiverse.com/renders/0f/a7/3c/a4/03/200pxgalileoarp300pix_thumb_small.jpg)\n",
    "   3. [Albert Einstein](https://en.wikipedia.org/wiki/Albert_Einstein)\n",
    "       ![Einstein](https://pbs.twimg.com/profile_images/3603569381/41aca9d1b837d559a5f9ad3680893ce1_normal.jpeg)\n",
    "   4. [Leonardo Da Vinci](https://en.wikipedia.org/wiki/Leonardo_da_Vinci)\n",
    "       ![Da Vinci](https://qph.ec.quoracdn.net/main-thumb-t-11598-50-oKxmi5ElGOSO28IpAcQKrFSwL7o1DrT7.jpeg)\n",
    "   5. [Tycho Brahe](https://en.wikipedia.org/wiki/Tycho_Brahe)\n",
    "       ![Tycho](https://thumbnail.myheritageimages.com/844/421/300844421/500/500589_86713155gm2a23356kzx53_W_64x64C.jpg)"
   ]
  },
  {
   "cell_type": "markdown",
   "metadata": {},
   "source": [
    "###### 3. Navier-Stokes Equation for Incompressible Flow\n",
    "\n",
    "$$\n",
    "\\frac{d \\rho}{d t}=\n",
    "\\frac{\\partial \\rho}{\\partial t} +\n",
    "\\frac{\\partial \\rho}{\\partial x}\\frac{d x}{d t} +\n",
    "\\frac{\\partial \\rho}{\\partial y}\\frac{d y}{d t} +\n",
    "\\frac{\\partial \\rho}{\\partial z}\\frac{d z}{d t}\n",
    "$$"
   ]
  },
  {
   "cell_type": "markdown",
   "metadata": {},
   "source": [
    "###### 4. Green's Theorem\n",
    "\n",
    "$$\n",
    "\\oint_C (Ldx + Mdy)=\n",
    "\\int \\hspace{-2mm} \\int_D \\left(\\frac{\\partial M}{\\partial x} - \\frac{\\partial L}{\\partial y} \\right) dx dy\n",
    "$$"
   ]
  },
  {
   "cell_type": "markdown",
   "metadata": {},
   "source": [
    "###### 5. Prime Number Theorem\n",
    "\n",
    "$$\n",
    "\\lim_{x \\to \\infty} \\frac{\\pi (x)}{\\frac {x}{log(x)}}\n",
    "$$"
   ]
  },
  {
   "cell_type": "code",
   "execution_count": null,
   "metadata": {
    "collapsed": true
   },
   "outputs": [],
   "source": []
  }
 ],
 "metadata": {
  "kernelspec": {
   "display_name": "Python 3",
   "language": "python",
   "name": "python3"
  },
  "language_info": {
   "codemirror_mode": {
    "name": "ipython",
    "version": 3
   },
   "file_extension": ".py",
   "mimetype": "text/x-python",
   "name": "python",
   "nbconvert_exporter": "python",
   "pygments_lexer": "ipython3",
   "version": "3.5.2"
  }
 },
 "nbformat": 4,
 "nbformat_minor": 1
}
