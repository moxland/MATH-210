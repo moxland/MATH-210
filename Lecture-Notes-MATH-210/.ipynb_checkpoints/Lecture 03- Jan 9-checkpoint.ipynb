{
 "cells": [
  {
   "cell_type": "markdown",
   "metadata": {},
   "source": [
    "# Math 210 Introduction to Mathematical Computing\n",
    "\n",
    "## January 9, 2017\n",
    "\n",
    "1. LaTeX Exercises\n",
    "2. Matricies"
   ]
  },
  {
   "cell_type": "markdown",
   "metadata": {},
   "source": [
    "## 1. LaTeX Exercises"
   ]
  },
  {
   "cell_type": "markdown",
   "metadata": {},
   "source": [
    "The **derivative** of $f(x)$ at the point $x=a$ is the limit \n",
    "\n",
    "$$\n",
    "f'(a) = \\lim_{x \\to a} \\frac{f(x) - f(a)}{x - a}\n",
    "$$\n"
   ]
  },
  {
   "cell_type": "markdown",
   "metadata": {},
   "source": [
    "A function $f(x)$ is **continuous** at a point $x=a$ if \n",
    "\n",
    "$$\n",
    "\\lim_{x \\to a^-} f(x) = f(a)= \\lim_{x \\to a^+} f(x)\n",
    "$$"
   ]
  },
  {
   "cell_type": "markdown",
   "metadata": {},
   "source": [
    "The **chain rule** is\n",
    "\n",
    "$$\n",
    "\\frac{d}{dx} \\left(f(g(x)) \\right)=f'(g(x))g'(x)\n",
    "$$\n",
    "\n",
    "Notice the difference with:\n",
    "\n",
    "$$\n",
    "\\frac{d}{dx} (f(g(x)))= f'(g(x))g'(x)\n",
    "$$"
   ]
  },
  {
   "cell_type": "markdown",
   "metadata": {},
   "source": [
    "The Navier-Stokes equation is \n",
    "$$\n",
    "\\frac{d \\rho}{d t}= \n",
    "\\frac{\\partial \\rho}{\\partial t} +\n",
    "\\frac{\\partial \\rho}{\\partial x} \\frac{d x}{d t} +\n",
    "\\frac{\\partial \\rho}{\\partial y} \\frac{d y}{d t} +\n",
    "\\frac{\\partial \\rho}{\\partial z} \\frac{d z}{d t}\n",
    "$$"
   ]
  },
  {
   "cell_type": "markdown",
   "metadata": {},
   "source": [
    "The Maclaurin series for $e^x$ is\n",
    "\n",
    "$$\n",
    "e^x = \\sum_{k=0}^{\\infty} \\frac{x^k}{k!}\n",
    "$$"
   ]
  },
  {
   "cell_type": "markdown",
   "metadata": {},
   "source": [
    "## 2. Matricies\n",
    "\n",
    "To create a matrix without brackets, use the syntax\n",
    "\n",
    "```\n",
    "\\begin{matrix} a & b \\\\ c & d \\end{matrix}\n",
    "``` \n",
    "\n",
    "to display\n",
    "$$\n",
    "\\begin{matrix} a & b \\\\ c & d \\end{matrix}\n",
    "$$\n"
   ]
  },
  {
   "cell_type": "markdown",
   "metadata": {},
   "source": [
    "To create a matrix with brackets, use the syntax\n",
    "\n",
    "```\n",
    "\\begin{pmatrix} a & b \\\\ c & d \\end{pmatrix}\n",
    "``` \n",
    "\n",
    "to display\n",
    "$$\n",
    "\\begin{pmatrix} a & b \\\\ c & d \\end{pmatrix}\n",
    "$$"
   ]
  },
  {
   "cell_type": "markdown",
   "metadata": {},
   "source": [
    "To create a matrix with square brackets, use the syntax\n",
    "\n",
    "```\n",
    "\\begin{bmatrix} a & b \\\\ c & d \\end{bmatrix}\n",
    "``` \n",
    "\n",
    "to display\n",
    "$$\n",
    "\\begin{bmatrix} a & b \\\\ c & d \\end{bmatrix}\n",
    "$$"
   ]
  },
  {
   "cell_type": "markdown",
   "metadata": {},
   "source": [
    "To create an augmented matrix, use the syntax\n",
    "\n",
    "```\n",
    "\\left[ \\begin{array}{ccc|c} 0 & 1 & -4 & 8 \\\\ 5 & 7 & 6 & -1 \\end{array} \\right]\n",
    "``` \n",
    "\n",
    "to display\n",
    "$$\n",
    "\\left[ \\begin{array}{ccc|c} 0 & 1 & -4 & 8 \\\\ 5 & 7 & 6 & -1 \\end{array} \\right]\n",
    "$$"
   ]
  },
  {
   "cell_type": "markdown",
   "metadata": {},
   "source": [
    "To enclose large expressions in brackets, use the syntax \n",
    "\n",
    "``` \n",
    "\\left( \\frac{1}{2} - 1 \\right)\n",
    "```\n",
    "\n",
    "to display \n",
    "$$\n",
    "\\left( \\frac{1}{2} - 1 \\right)\n",
    "$$\n"
   ]
  },
  {
   "cell_type": "markdown",
   "metadata": {},
   "source": [
    "## 3. Exercises\n",
    "\n",
    "###### 1. Taylor Series\n",
    "\n",
    "$$\n",
    "\\sum_{n=0}^\\infty \\frac{f^n(a)}{n!} \\left(x-a \\right)^n\n",
    "$$"
   ]
  },
  {
   "cell_type": "markdown",
   "metadata": {},
   "source": [
    "###### 2. Stokes' Theorem\n",
    "\n",
    "$$\n",
    "\\int_{\\partial \\Omega} \\omega = \\int_{\\Omega} d \\omega\n",
    "$$"
   ]
  },
  {
   "cell_type": "markdown",
   "metadata": {
    "collapsed": true
   },
   "source": [
    "###### 3. Adjoint property of the tensor joint\n",
    "\n",
    "$$\n",
    "\\mathrm{Hom}(U \\otimes V, W) \\cong \\mathrm{Hom}(U, \\mathrm{Hom}(V,W))\n",
    "$$"
   ]
  },
  {
   "cell_type": "markdown",
   "metadata": {},
   "source": [
    "###### 4. Lapace Transformation\n",
    "\n",
    "$$\n",
    "F(s)= \\int_{0}^\\infty f(t)e^{-st} dt\n",
    "$$\n"
   ]
  },
  {
   "cell_type": "markdown",
   "metadata": {},
   "source": [
    "###### 5. Jacobian Matrix\n",
    "\n",
    "$$\n",
    "{\\tt J}= \n",
    "\\begin{bmatrix} \\frac{\\partial f}{\\partial x_1} \\dotsb \\frac{\\partial f}{\\partial x_n} \\end{bmatrix}=\n",
    "\\begin{bmatrix} \n",
    "\\frac{\\partial f_1}{\\partial x_1} & \\dotsb & \\frac{\\partial f_1}{\\partial x_n} \\\\ \n",
    "\\vdots & \\ddots & \\vdots \\\\\n",
    "\\frac{\\partial f_m}{\\partial x_1} & \\dotsb & \\frac{\\partial f_m}{\\partial x_n} \\end{bmatrix}\n",
    "$$"
   ]
  },
  {
   "cell_type": "code",
   "execution_count": null,
   "metadata": {
    "collapsed": true
   },
   "outputs": [],
   "source": []
  }
 ],
 "metadata": {
  "kernelspec": {
   "display_name": "Python 3",
   "language": "python",
   "name": "python3"
  },
  "language_info": {
   "codemirror_mode": {
    "name": "ipython",
    "version": 3
   },
   "file_extension": ".py",
   "mimetype": "text/x-python",
   "name": "python",
   "nbconvert_exporter": "python",
   "pygments_lexer": "ipython3",
   "version": "3.5.2"
  }
 },
 "nbformat": 4,
 "nbformat_minor": 1
}
