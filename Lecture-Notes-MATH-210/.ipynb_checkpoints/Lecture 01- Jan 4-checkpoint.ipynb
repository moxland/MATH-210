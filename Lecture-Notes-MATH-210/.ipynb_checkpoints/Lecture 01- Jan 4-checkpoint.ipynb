{
 "cells": [
  {
   "cell_type": "markdown",
   "metadata": {},
   "source": [
    "# MATH 210 Introduction to Mathematical Computing \n",
    "\n",
    "## January 4, 2017\n",
    "\n",
    "Today's Agenda:\n",
    "1. Course Outline\n",
    "2. Jupyter Notebooks\n",
    "    * Cells\n",
    "    * Markdown\n",
    "    * LaTex"
   ]
  },
  {
   "cell_type": "markdown",
   "metadata": {},
   "source": []
  }
 ],
 "metadata": {
  "kernelspec": {
   "display_name": "Python 3",
   "language": "python",
   "name": "python3"
  },
  "language_info": {
   "codemirror_mode": {
    "name": "ipython",
    "version": 3
   },
   "file_extension": ".py",
   "mimetype": "text/x-python",
   "name": "python",
   "nbconvert_exporter": "python",
   "pygments_lexer": "ipython3",
   "version": "3.5.2"
  }
 },
 "nbformat": 4,
 "nbformat_minor": 1
}
