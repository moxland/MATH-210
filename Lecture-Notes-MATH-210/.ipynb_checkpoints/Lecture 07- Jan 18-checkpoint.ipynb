{
 "cells": [
  {
   "cell_type": "markdown",
   "metadata": {},
   "source": [
    "# MATH 210 Introduction to Mathematical Computing\n",
    "\n",
    "## January 18, 2017\n",
    "\n",
    "1. Functions\n",
    "2. Exercises"
   ]
  },
  {
   "cell_type": "markdown",
   "metadata": {},
   "source": [
    "## 1. Functions\n",
    "\n",
    "A function is a way for us to reuse a block of code with different input values. The syntax for defining a function is to use the `def` key word follwed by the function's name and the `return` keyword to specify the output. For example, let's write a function that computes the average of inputs a and b."
   ]
  },
  {
   "cell_type": "code",
   "execution_count": 1,
   "metadata": {
    "collapsed": true
   },
   "outputs": [],
   "source": [
    "def average(a,b):\n",
    "    return (a + b)/2"
   ]
  },
  {
   "cell_type": "markdown",
   "metadata": {},
   "source": [
    "The variables `a` and `b` in the `def` statemant are called **input parameters**. We need to call the function with values for the imput parameters for the function to compute and return the return value."
   ]
  },
  {
   "cell_type": "code",
   "execution_count": 2,
   "metadata": {
    "collapsed": false
   },
   "outputs": [
    {
     "data": {
      "text/plain": [
       "2.5"
      ]
     },
     "execution_count": 2,
     "metadata": {},
     "output_type": "execute_result"
    }
   ],
   "source": [
    "average(1,4)"
   ]
  },
  {
   "cell_type": "code",
   "execution_count": 3,
   "metadata": {
    "collapsed": false
   },
   "outputs": [
    {
     "data": {
      "text/plain": [
       "4.5"
      ]
     },
     "execution_count": 3,
     "metadata": {},
     "output_type": "execute_result"
    }
   ],
   "source": [
    "average(3,6)"
   ]
  },
  {
   "cell_type": "markdown",
   "metadata": {},
   "source": [
    "In Python, code blocks are defined using indentation. This means lines of code indented the same amount are considered one block.\n",
    "\n",
    "A great way to visualize what is happening when we define and then call a function is to use the [Python visualizer](http://www.pythontutor.com/visualize.html#mode=edit)."
   ]
  },
  {
   "cell_type": "markdown",
   "metadata": {},
   "source": [
    "Let's write a function called `box` with 3 input parameters `w`, `h`, and `d` representing the dimensions of a box such that the function returns the surface area and the volume (in that order in a list of length 2)."
   ]
  },
  {
   "cell_type": "code",
   "execution_count": 8,
   "metadata": {
    "collapsed": false
   },
   "outputs": [
    {
     "name": "stdout",
     "output_type": "stream",
     "text": [
      "[6, 1]\n",
      "[160, 100]\n",
      "[61200, 1030000]\n"
     ]
    }
   ],
   "source": [
    "# function definition: includes all indented lines after def\n",
    "def box(w,h,d):\n",
    "    surface_area = 2*w*d + 2*h*d + 2*h*w\n",
    "    volume = h*w*d\n",
    "    return [surface_area,volume]\n",
    "\n",
    "#the code below is not indented and therefore outside the function definition\n",
    "print(box(1,1,1))\n",
    "print(box(10,2,5))\n",
    "print(box(100,100,103))"
   ]
  },
  {
   "cell_type": "markdown",
   "metadata": {},
   "source": [
    "Write a function called `roots` which takes 3 input parameters `a`,`b`,`c` representing the quadratic polynomial\n",
    "\n",
    "$$\n",
    "p(x) = ax^2 + bx +c\n",
    "$$\n",
    "\n",
    "which does the following:\n",
    "* if the roots of $p(x)$ are real and distinct, then return the roots as a list of length 2 in increasing order\n",
    "* if the roots are repeated, then retuen the single root\n",
    "* is the roots are complex, then return the list of complex roots\n"
   ]
  },
  {
   "cell_type": "code",
   "execution_count": 16,
   "metadata": {
    "collapsed": true
   },
   "outputs": [],
   "source": [
    "def roots(a,b,c):\n",
    "    discriminant = b**2 - 4*a*c\n",
    "    if discriminant > 0:\n",
    "        root_1 = (-b + discriminant**0.5)/(2*a)\n",
    "        root_2 = (-b - discriminant**0.5)/(2*a)\n",
    "        return sorted([root_1, root_2])\n",
    "    elif discriminant < 0:\n",
    "        root_1 = (-b + discriminant**0.5)/(2*a)\n",
    "        root_2 = (-b - discriminant**0.5)/(2*a)\n",
    "        return [root_1, root_2]\n",
    "    else:\n",
    "        root = -b/(2*a)\n",
    "        return root"
   ]
  },
  {
   "cell_type": "code",
   "execution_count": 17,
   "metadata": {
    "collapsed": false
   },
   "outputs": [
    {
     "data": {
      "text/plain": [
       "[-1.0, 1.0]"
      ]
     },
     "execution_count": 17,
     "metadata": {},
     "output_type": "execute_result"
    }
   ],
   "source": [
    "roots(1,0,-1)"
   ]
  },
  {
   "cell_type": "code",
   "execution_count": 18,
   "metadata": {
    "collapsed": false
   },
   "outputs": [
    {
     "data": {
      "text/plain": [
       "[(6.123233995736766e-17+1j), (-6.123233995736766e-17-1j)]"
      ]
     },
     "execution_count": 18,
     "metadata": {},
     "output_type": "execute_result"
    }
   ],
   "source": [
    "roots(1,0,1)"
   ]
  },
  {
   "cell_type": "code",
   "execution_count": 19,
   "metadata": {
    "collapsed": false
   },
   "outputs": [
    {
     "data": {
      "text/plain": [
       "-1.0"
      ]
     },
     "execution_count": 19,
     "metadata": {},
     "output_type": "execute_result"
    }
   ],
   "source": [
    "roots(1,2,1)"
   ]
  },
  {
   "cell_type": "markdown",
   "metadata": {
    "collapsed": true
   },
   "source": [
    "## Exercises\n",
    "\n",
    "1. "
   ]
  },
  {
   "cell_type": "code",
   "execution_count": 13,
   "metadata": {
    "collapsed": false
   },
   "outputs": [],
   "source": [
    "def partial_zeta(k,N):\n",
    "    terms = 1\n",
    "    for n in range(1,N+1):\n",
    "        terms = 1/(n**k)\n",
    "    return(terms)"
   ]
  },
  {
   "cell_type": "code",
   "execution_count": 17,
   "metadata": {
    "collapsed": false
   },
   "outputs": [
    {
     "data": {
      "text/plain": [
       "0.125"
      ]
     },
     "execution_count": 17,
     "metadata": {},
     "output_type": "execute_result"
    }
   ],
   "source": [
    "partial_zeta(3,2)"
   ]
  },
  {
   "cell_type": "markdown",
   "metadata": {},
   "source": [
    "2."
   ]
  },
  {
   "cell_type": "code",
   "execution_count": 10,
   "metadata": {
    "collapsed": false
   },
   "outputs": [],
   "source": [
    "def inverse(a,b,c,d):\n",
    "    det = (a*d)-(b*c)\n",
    "    if det == 0:\n",
    "        return None\n",
    "    else:\n",
    "        x= d/det\n",
    "        y= -b/det\n",
    "        z= -c/det\n",
    "        w= a/det\n",
    "        return print([x,y,z,w])"
   ]
  },
  {
   "cell_type": "code",
   "execution_count": 11,
   "metadata": {
    "collapsed": false
   },
   "outputs": [
    {
     "name": "stdout",
     "output_type": "stream",
     "text": [
      "[-2.0, 1.0, 1.5, -0.5]\n"
     ]
    }
   ],
   "source": [
    "inverse(1,2,3,4)"
   ]
  },
  {
   "cell_type": "markdown",
   "metadata": {},
   "source": [
    "3."
   ]
  },
  {
   "cell_type": "code",
   "execution_count": null,
   "metadata": {
    "collapsed": true
   },
   "outputs": [],
   "source": [
    "def power_mean(lon,p):\n",
    "    terms = (1/n)*sum()\n"
   ]
  }
 ],
 "metadata": {
  "kernelspec": {
   "display_name": "Python 3",
   "language": "python",
   "name": "python3"
  },
  "language_info": {
   "codemirror_mode": {
    "name": "ipython",
    "version": 3
   },
   "file_extension": ".py",
   "mimetype": "text/x-python",
   "name": "python",
   "nbconvert_exporter": "python",
   "pygments_lexer": "ipython3",
   "version": "3.5.2"
  }
 },
 "nbformat": 4,
 "nbformat_minor": 1
}
