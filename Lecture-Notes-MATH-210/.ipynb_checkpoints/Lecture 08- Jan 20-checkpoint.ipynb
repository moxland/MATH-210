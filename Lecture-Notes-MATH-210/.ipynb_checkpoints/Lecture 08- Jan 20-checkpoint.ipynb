{
 "cells": [
  {
   "cell_type": "markdown",
   "metadata": {},
   "source": [
    "# Math 210 Introduction to Mathematical Computing\n",
    "\n",
    "## January 20, 2017\n",
    "\n",
    "1. More functions\n",
    "2. For loops\n",
    "3. Exercises"
   ]
  },
  {
   "cell_type": "markdown",
   "metadata": {},
   "source": [
    "## 1. More on Functions\n",
    "\n",
    "The syntax for writing a function is:\n",
    "1. Start with `def` keyword\n",
    "2. Choose a function name\n",
    "3. List of input parameters (within ()) ending in a colon:\n",
    "4. Body of the function is all indented 4 spaces\n",
    "5. Use `return` keyword to give return value\n",
    "6. Write a documentaion string in the first line after `def`\n",
    "\n",
    "Write a function called `harmonic_mean` which takes 1 input paramter, a list of positive numbers, and returns the [harmonic mean](https://en.wikipedia.org/wiki/Harmonic_mean) of the numbers in the list."
   ]
  },
  {
   "cell_type": "code",
   "execution_count": 20,
   "metadata": {
    "collapsed": false
   },
   "outputs": [],
   "source": [
    "def harmonic_mean(list_of_numbers):\n",
    "    \"Compute the harmonic mean of a list of positive numbers.\"\n",
    "    if min(list_of_numbers) <= 0:\n",
    "        print('Error: All numbers in the list must be greater than 0.')\n",
    "        return None\n",
    "    else:\n",
    "        n = len(list_of_numbers)\n",
    "        terms = (1/x for x in list_of_numbers)\n",
    "        return n/sum(terms)\n",
    "    "
   ]
  },
  {
   "cell_type": "code",
   "execution_count": 5,
   "metadata": {
    "collapsed": false
   },
   "outputs": [
    {
     "data": {
      "text/plain": [
       "1.0"
      ]
     },
     "execution_count": 5,
     "metadata": {},
     "output_type": "execute_result"
    }
   ],
   "source": [
    "harmonic_mean([1,1])"
   ]
  },
  {
   "cell_type": "code",
   "execution_count": 11,
   "metadata": {
    "collapsed": false
   },
   "outputs": [
    {
     "data": {
      "text/plain": [
       "1.9200000000000004"
      ]
     },
     "execution_count": 11,
     "metadata": {},
     "output_type": "execute_result"
    }
   ],
   "source": [
    "harmonic_mean([1,2,3,4])"
   ]
  },
  {
   "cell_type": "code",
   "execution_count": 8,
   "metadata": {
    "collapsed": false
   },
   "outputs": [
    {
     "data": {
      "text/plain": [
       "1.9200000000000004"
      ]
     },
     "execution_count": 8,
     "metadata": {},
     "output_type": "execute_result"
    }
   ],
   "source": [
    "4/ (1/1 + 1/2 + 1/3 + 1/4)"
   ]
  },
  {
   "cell_type": "code",
   "execution_count": 10,
   "metadata": {
    "collapsed": false
   },
   "outputs": [
    {
     "data": {
      "text/plain": [
       "list"
      ]
     },
     "execution_count": 10,
     "metadata": {},
     "output_type": "execute_result"
    }
   ],
   "source": [
    "type([6,7])"
   ]
  },
  {
   "cell_type": "code",
   "execution_count": 18,
   "metadata": {
    "collapsed": false
   },
   "outputs": [
    {
     "name": "stdout",
     "output_type": "stream",
     "text": [
      "Error: All numbers in the list must be greater than 0.\n"
     ]
    }
   ],
   "source": [
    "harmonic_mean([1,0,7,-2])"
   ]
  },
  {
   "cell_type": "code",
   "execution_count": 21,
   "metadata": {
    "collapsed": true
   },
   "outputs": [],
   "source": [
    "harmonic_mean?"
   ]
  },
  {
   "cell_type": "code",
   "execution_count": 22,
   "metadata": {
    "collapsed": true
   },
   "outputs": [],
   "source": [
    "len?"
   ]
  },
  {
   "cell_type": "code",
   "execution_count": 23,
   "metadata": {
    "collapsed": true
   },
   "outputs": [],
   "source": [
    "sum?"
   ]
  },
  {
   "cell_type": "code",
   "execution_count": 24,
   "metadata": {
    "collapsed": true
   },
   "outputs": [],
   "source": [
    "type?"
   ]
  },
  {
   "cell_type": "code",
   "execution_count": 25,
   "metadata": {
    "collapsed": true
   },
   "outputs": [],
   "source": [
    "abs?"
   ]
  },
  {
   "cell_type": "markdown",
   "metadata": {},
   "source": [
    "## 2. For loops\n",
    "\n",
    "A for loop allows us to exectue a block of code multiple times (with some parameters updated each time through the loop). The syntax for writing a for loop is:\n",
    "\n",
    "1. Start with `for` keyword\n",
    "2. Choose a variable name followed by `in` and then a lsit (or iterable) to loop over and end the line with a colon :\n",
    "3. A block of code indented 4 spaces which executes each time through the loop\n"
   ]
  },
  {
   "cell_type": "code",
   "execution_count": 26,
   "metadata": {
    "collapsed": false
   },
   "outputs": [
    {
     "name": "stdout",
     "output_type": "stream",
     "text": [
      "0 squared is 0\n",
      "1 squared is 1\n",
      "2 squared is 4\n",
      "3 squared is 9\n",
      "4 squared is 16\n",
      "5 squared is 25\n"
     ]
    }
   ],
   "source": [
    "for n in [0,1,2,3,4,5]:\n",
    "    square = n**2\n",
    "    print(n,'squared is', square)"
   ]
  },
  {
   "cell_type": "markdown",
   "metadata": {},
   "source": [
    "Copy and paste this code into the [Python visualizer](http://www.pythontutor.com/visualize.html#mode=edit) to see how this loop works!"
   ]
  },
  {
   "cell_type": "markdown",
   "metadata": {},
   "source": [
    "Write a function called `is_prime` which takes one input parameter `N` and returns `True` or `False` depending on whether N is prime or not."
   ]
  },
  {
   "cell_type": "code",
   "execution_count": 1,
   "metadata": {
    "collapsed": true
   },
   "outputs": [],
   "source": [
    "def is_prime(N):\n",
    "    \"Determine whether or not N is a prime number.\"\n",
    "    \n",
    "    if N <= 1:\n",
    "        return False\n",
    "    # N is prime of N is only divisble by 1 and itself\n",
    "    # We should test whether N is divisible by d for all 1 < d < N\n",
    "    for d in range(2,N):\n",
    "        # Check if N is divisible by d\n",
    "        if N % d == 0:\n",
    "            return False\n",
    "        # If we exit the for loop, then N is not divisible by any d and N is prime\n",
    "    return True\n",
    "        "
   ]
  },
  {
   "cell_type": "code",
   "execution_count": 32,
   "metadata": {
    "collapsed": false
   },
   "outputs": [
    {
     "name": "stdout",
     "output_type": "stream",
     "text": [
      "2 is prime\n",
      "3 is prime\n",
      "5 is prime\n",
      "7 is prime\n"
     ]
    }
   ],
   "source": [
    "for n in range(0,10):\n",
    "    if is_prime(n):\n",
    "        print(n, 'is prime')"
   ]
  },
  {
   "cell_type": "code",
   "execution_count": 33,
   "metadata": {
    "collapsed": false
   },
   "outputs": [
    {
     "name": "stdout",
     "output_type": "stream",
     "text": [
      "20011 is prime\n",
      "20021 is prime\n",
      "20023 is prime\n",
      "20029 is prime\n",
      "20047 is prime\n",
      "20051 is prime\n",
      "20063 is prime\n",
      "20071 is prime\n",
      "20089 is prime\n"
     ]
    }
   ],
   "source": [
    "for n in range(20000,20100):\n",
    "    if is_prime(n):\n",
    "        print(n, 'is prime')"
   ]
  },
  {
   "cell_type": "markdown",
   "metadata": {},
   "source": [
    "## Exercises\n",
    "\n",
    "2. "
   ]
  },
  {
   "cell_type": "code",
   "execution_count": 2,
   "metadata": {
    "collapsed": true
   },
   "outputs": [],
   "source": [
    "def primes_between(a,b):\n",
    "    prime_list = []\n",
    "    for n in range(a,b+1):\n",
    "        if is_prime(n):\n",
    "            prime_list.append(n)\n",
    "    return(prime_list)"
   ]
  },
  {
   "cell_type": "code",
   "execution_count": 5,
   "metadata": {
    "collapsed": false
   },
   "outputs": [
    {
     "data": {
      "text/plain": [
       "[2,\n",
       " 3,\n",
       " 5,\n",
       " 7,\n",
       " 11,\n",
       " 13,\n",
       " 17,\n",
       " 19,\n",
       " 23,\n",
       " 29,\n",
       " 31,\n",
       " 37,\n",
       " 41,\n",
       " 43,\n",
       " 47,\n",
       " 53,\n",
       " 59,\n",
       " 61,\n",
       " 67,\n",
       " 71,\n",
       " 73,\n",
       " 79,\n",
       " 83,\n",
       " 89,\n",
       " 97]"
      ]
     },
     "execution_count": 5,
     "metadata": {},
     "output_type": "execute_result"
    }
   ],
   "source": [
    "primes_between(2,100)"
   ]
  },
  {
   "cell_type": "markdown",
   "metadata": {},
   "source": [
    "3."
   ]
  },
  {
   "cell_type": "code",
   "execution_count": 9,
   "metadata": {
    "collapsed": false
   },
   "outputs": [],
   "source": [
    "def primes_d_mod_N(a,b,d,N):\n",
    "    a_list = []\n",
    "    for n in primes_between(a,b):\n",
    "        if n%d == N:\n",
    "            a_list.append(n)\n",
    "    return(a_list)          "
   ]
  },
  {
   "cell_type": "code",
   "execution_count": 12,
   "metadata": {
    "collapsed": false
   },
   "outputs": [
    {
     "data": {
      "text/plain": [
       "[3, 7, 11, 19, 23, 31, 43, 47]"
      ]
     },
     "execution_count": 12,
     "metadata": {},
     "output_type": "execute_result"
    }
   ],
   "source": [
    "primes_d_mod_N(2,50,4,3)"
   ]
  },
  {
   "cell_type": "code",
   "execution_count": null,
   "metadata": {
    "collapsed": true
   },
   "outputs": [],
   "source": []
  }
 ],
 "metadata": {
  "kernelspec": {
   "display_name": "Python 3",
   "language": "python",
   "name": "python3"
  },
  "language_info": {
   "codemirror_mode": {
    "name": "ipython",
    "version": 3
   },
   "file_extension": ".py",
   "mimetype": "text/x-python",
   "name": "python",
   "nbconvert_exporter": "python",
   "pygments_lexer": "ipython3",
   "version": "3.5.2"
  }
 },
 "nbformat": 4,
 "nbformat_minor": 1
}
