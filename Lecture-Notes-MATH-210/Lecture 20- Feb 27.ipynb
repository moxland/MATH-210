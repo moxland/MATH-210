{
 "cells": [
  {
   "cell_type": "markdown",
   "metadata": {
    "deletable": true,
    "editable": true
   },
   "source": [
    "# MATH 210 Introduction to Mathematical Computing\n",
    "\n",
    "## February 27, 2017\n",
    "\n",
    "1. Approximating Definite Integrals\n",
    "    * Reimann sums\n",
    "    * Trapezoid rule\n",
    "2. Approximating integrals with scipy.integrate\n",
    "    * `trapz`\n",
    "    * `simps`\n",
    "    * `quad`\n",
    "3. Exercises"
   ]
  },
  {
   "cell_type": "code",
   "execution_count": 2,
   "metadata": {
    "collapsed": true,
    "deletable": true,
    "editable": true
   },
   "outputs": [],
   "source": [
    "import numpy as np"
   ]
  },
  {
   "cell_type": "markdown",
   "metadata": {
    "deletable": true,
    "editable": true
   },
   "source": [
    "## 1. Approximating Definite Integrals\n",
    "\n",
    "Th edefinite integral of a function $f(x)$ over the interval [a,b] is defined as a limit of Reimann sums\n",
    "\n",
    "$$\n",
    "\\int_a^b f(x) \\, dx = \\lim_{n \\to \\infty} \\sum_{i=1}^n f(x_i^*) (x_i - x_{i-1}) \\ \\, \\ x_i^* \n",
    "\\int [x_{i-1},x_i]\n",
    "$$"
   ]
  },
  {
   "cell_type": "markdown",
   "metadata": {
    "deletable": true,
    "editable": true
   },
   "source": [
    "### Riemann sums\n",
    "\n",
    "Let's write a function called `reimann_sum` which takes 5 input parameters f,a,b,n,method and returns the reimann sum where the parition has subintervals of equal length. Method determines whether we use left, right or mid endpoints (set midpoint as default)."
   ]
  },
  {
   "cell_type": "code",
   "execution_count": null,
   "metadata": {
    "collapsed": true,
    "deletable": true,
    "editable": true
   },
   "outputs": [],
   "source": [
    "def riemann_sum(f,a,b,n,method='midpoint'):\n",
    "    \"\"\"Compute Riemann sum of f(x) over the interval [a,b] using a partitions with n \n",
    "    subintervals of equal length\n",
    "    \n",
    "    INPUT:\n",
    "        f (function)   : Vecotized function of one variable\n",
    "        a,b (numbers)  : Defines the interval\n",
    "        n (int)        : Nuumber of sub intervals\n",
    "        method (string): Determines kind of Riemann sum\n",
    "            right\n",
    "            left\n",
    "            midpoint (default)\n",
    "    OUTPUT:\n",
    "        Value of Riemann sum (number)\"\"\"\n",
    "    # Length of each subinterval\n",
    "    dx = (b-a)/n\n",
    "    # Array of endpoints\n",
    "    x = np.linspace(a,b,n+1)\n",
    "    if method == 'left':\n",
    "        # Compute left riemann sum\n",
    "        # Array of left endpoints\n",
    "        x = x[0:-1]\n",
    "        return np.sum(f(x)*dx)\n",
    "    elif method == 'right':\n",
    "        # Compute right riemann sum\n",
    "        # Array of right endpoints\n",
    "        x = x[1:]\n",
    "        return np.sum(f(x)*dx)\n",
    "    elif method == 'midpoint':\n",
    "        # Compute riemann sum using midpoints\n",
    "        # Array of right endpoints\n",
    "        x = (x[0:-1] + x[1:])/2 # Or x = x[0:-1] + dx/2\n",
    "        return np.sum(f(x)*dx)\n",
    "    else:\n",
    "        # Don't recognize the method\n",
    "        print('Method', method, 'undefined.')\n",
    "        return None"
   ]
  },
  {
   "cell_type": "code",
   "execution_count": null,
   "metadata": {
    "collapsed": false,
    "deletable": true,
    "editable": true
   },
   "outputs": [],
   "source": [
    "riemann_sum(np.sin,0,np.pi/2,100)"
   ]
  },
  {
   "cell_type": "code",
   "execution_count": null,
   "metadata": {
    "collapsed": false,
    "deletable": true,
    "editable": true
   },
   "outputs": [],
   "source": [
    "riemann_sum(np.sin,0,np.pi/2,100,'left')"
   ]
  },
  {
   "cell_type": "code",
   "execution_count": null,
   "metadata": {
    "collapsed": false,
    "deletable": true,
    "editable": true
   },
   "outputs": [],
   "source": [
    "riemann_sum(np.sin,0,np.pi/2,100,'right')"
   ]
  },
  {
   "cell_type": "code",
   "execution_count": null,
   "metadata": {
    "collapsed": true,
    "deletable": true,
    "editable": true
   },
   "outputs": [],
   "source": [
    "def fun(x):\n",
    "    return x"
   ]
  },
  {
   "cell_type": "code",
   "execution_count": null,
   "metadata": {
    "collapsed": false,
    "deletable": true,
    "editable": true
   },
   "outputs": [],
   "source": [
    "riemann_sum(fun,0,1,100)"
   ]
  },
  {
   "cell_type": "code",
   "execution_count": null,
   "metadata": {
    "collapsed": false,
    "deletable": true,
    "editable": true
   },
   "outputs": [],
   "source": [
    "riemann_sum(np.cos,0,np.pi/2,1)"
   ]
  },
  {
   "cell_type": "code",
   "execution_count": null,
   "metadata": {
    "collapsed": false,
    "deletable": true,
    "editable": true
   },
   "outputs": [],
   "source": [
    "1/2**0.5 * np.pi/2"
   ]
  },
  {
   "cell_type": "markdown",
   "metadata": {
    "deletable": true,
    "editable": true
   },
   "source": [
    "## 2. Integration using scipy.integrate"
   ]
  },
  {
   "cell_type": "code",
   "execution_count": 3,
   "metadata": {
    "collapsed": true,
    "deletable": true,
    "editable": true
   },
   "outputs": [],
   "source": [
    "import scipy.integrate as spi"
   ]
  },
  {
   "cell_type": "code",
   "execution_count": 4,
   "metadata": {
    "collapsed": true,
    "deletable": true,
    "editable": true
   },
   "outputs": [],
   "source": [
    "import matplotlib.pyplot as plt\n",
    "% matplotlib inline"
   ]
  },
  {
   "cell_type": "code",
   "execution_count": null,
   "metadata": {
    "collapsed": false,
    "deletable": true,
    "editable": true
   },
   "outputs": [],
   "source": [
    "spi.trapz?"
   ]
  },
  {
   "cell_type": "markdown",
   "metadata": {
    "deletable": true,
    "editable": true
   },
   "source": [
    "Let's integrate $\\int_0^{\\pi} e^{\\sin(x)} dx$ using `trapz`"
   ]
  },
  {
   "cell_type": "code",
   "execution_count": null,
   "metadata": {
    "collapsed": false,
    "deletable": true,
    "editable": true
   },
   "outputs": [],
   "source": [
    "x = np.linspace(0,np.pi,100)\n",
    "y = np.exp(np.sin(x))\n",
    "plt.plot(x,y);\n",
    "spi.trapz(y,x)"
   ]
  },
  {
   "cell_type": "markdown",
   "metadata": {
    "deletable": true,
    "editable": true
   },
   "source": [
    "Let's try to verify the famous formula\n",
    "\n",
    "$$\n",
    "\\int_{-\\infty}^{\\infty} e^{-x^2} dx = \\sqrt(\\pi)\n",
    "$$"
   ]
  },
  {
   "cell_type": "code",
   "execution_count": null,
   "metadata": {
    "collapsed": false,
    "deletable": true,
    "editable": true
   },
   "outputs": [],
   "source": [
    "x = np.linspace(-1000,1000,20000)\n",
    "y = np.exp(-x**2)\n",
    "spi.trapz(y,x)"
   ]
  },
  {
   "cell_type": "code",
   "execution_count": null,
   "metadata": {
    "collapsed": false,
    "deletable": true,
    "editable": true
   },
   "outputs": [],
   "source": [
    "np.pi**0.5"
   ]
  },
  {
   "cell_type": "markdown",
   "metadata": {
    "deletable": true,
    "editable": true
   },
   "source": [
    "## Exercises\n",
    "1."
   ]
  },
  {
   "cell_type": "markdown",
   "metadata": {
    "deletable": true,
    "editable": true
   },
   "source": [
    "$$\n",
    "\\int_0^1 x e^{-x^2} \\, dx = \\frac{1}{2} \\left( 1 - \\frac{1}{e} \\right)\n",
    "$$"
   ]
  },
  {
   "cell_type": "code",
   "execution_count": 5,
   "metadata": {
    "collapsed": false,
    "deletable": true,
    "editable": true
   },
   "outputs": [],
   "source": [
    "x = np.linspace(0,1,100000)\n",
    "y = x*np.exp(-x**2)"
   ]
  },
  {
   "cell_type": "code",
   "execution_count": 6,
   "metadata": {
    "collapsed": false,
    "deletable": true,
    "editable": true
   },
   "outputs": [
    {
     "data": {
      "text/plain": [
       "0.31606027940287967"
      ]
     },
     "execution_count": 6,
     "metadata": {},
     "output_type": "execute_result"
    }
   ],
   "source": [
    "spi.trapz(y,x)"
   ]
  },
  {
   "cell_type": "code",
   "execution_count": 7,
   "metadata": {
    "collapsed": false,
    "deletable": true,
    "editable": true
   },
   "outputs": [
    {
     "data": {
      "text/plain": [
       "0.31606027941427883"
      ]
     },
     "execution_count": 7,
     "metadata": {},
     "output_type": "execute_result"
    }
   ],
   "source": [
    "0.5*(1-(1/np.exp(1)))"
   ]
  },
  {
   "cell_type": "markdown",
   "metadata": {
    "deletable": true,
    "editable": true
   },
   "source": [
    "2: \n",
    "$$\n",
    "\\int_0^1 \\ln(x) \\ln(1-x) \\, dx = 2 - \\frac{\\pi^2}{6}\n",
    "$$\n"
   ]
  },
  {
   "cell_type": "code",
   "execution_count": 8,
   "metadata": {
    "collapsed": false,
    "deletable": true,
    "editable": true
   },
   "outputs": [
    {
     "data": {
      "text/plain": [
       "0.35495780988566533"
      ]
     },
     "execution_count": 8,
     "metadata": {},
     "output_type": "execute_result"
    }
   ],
   "source": [
    "x = np.linspace(0.0001,0.9999,100)\n",
    "y = np.log(x)*np.log(1-x)\n",
    "spi.trapz(y,x)"
   ]
  },
  {
   "cell_type": "code",
   "execution_count": 9,
   "metadata": {
    "collapsed": false,
    "deletable": true,
    "editable": true
   },
   "outputs": [
    {
     "data": {
      "text/plain": [
       "0.3550659331517736"
      ]
     },
     "execution_count": 9,
     "metadata": {},
     "output_type": "execute_result"
    }
   ],
   "source": [
    "2-(np.pi**2)/6"
   ]
  },
  {
   "cell_type": "markdown",
   "metadata": {
    "deletable": true,
    "editable": true
   },
   "source": [
    "3: \n",
    "$$\n",
    "\\int_0^{\\pi/2} \\frac{x^3 \\cos x}{\\sin^3 x} \\, dx = \\frac{3}{2} \\pi \\ln 2 - \\frac{\\pi^3}{16}\n",
    "$$"
   ]
  },
  {
   "cell_type": "code",
   "execution_count": 31,
   "metadata": {
    "collapsed": true,
    "deletable": true,
    "editable": true
   },
   "outputs": [],
   "source": [
    "x = np.linspace(0.0001,np.pi/2,1000)\n",
    "y = (x**3*np.cos(x))/(np.sin(x)**3)"
   ]
  },
  {
   "cell_type": "code",
   "execution_count": 10,
   "metadata": {
    "collapsed": false,
    "deletable": true,
    "editable": true
   },
   "outputs": [
    {
     "data": {
      "text/plain": [
       "0.35495780988566533"
      ]
     },
     "execution_count": 10,
     "metadata": {},
     "output_type": "execute_result"
    }
   ],
   "source": [
    "spi.trapz(y,x)"
   ]
  },
  {
   "cell_type": "code",
   "execution_count": 11,
   "metadata": {
    "collapsed": false,
    "deletable": true,
    "editable": true
   },
   "outputs": [
    {
     "data": {
      "text/plain": [
       "1.3284868429366645"
      ]
     },
     "execution_count": 11,
     "metadata": {},
     "output_type": "execute_result"
    }
   ],
   "source": [
    "(3/2)*np.pi*np.log(2)-((np.pi**3)/16)"
   ]
  },
  {
   "cell_type": "code",
   "execution_count": null,
   "metadata": {
    "collapsed": true,
    "deletable": true,
    "editable": true
   },
   "outputs": [],
   "source": []
  }
 ],
 "metadata": {
  "kernelspec": {
   "display_name": "Python 3",
   "language": "python",
   "name": "python3"
  },
  "language_info": {
   "codemirror_mode": {
    "name": "ipython",
    "version": 3
   },
   "file_extension": ".py",
   "mimetype": "text/x-python",
   "name": "python",
   "nbconvert_exporter": "python",
   "pygments_lexer": "ipython3",
   "version": "3.5.2"
  }
 },
 "nbformat": 4,
 "nbformat_minor": 2
}
