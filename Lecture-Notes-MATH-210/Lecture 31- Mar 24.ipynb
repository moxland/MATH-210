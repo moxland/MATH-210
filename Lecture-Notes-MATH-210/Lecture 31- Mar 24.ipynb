{
 "cells": [
  {
   "cell_type": "markdown",
   "metadata": {},
   "source": [
    "# MATH 210 Introduction to Mathematical Computing\n",
    "\n",
    "## March 24, 2017\n",
    "\n",
    "1.Solving systems of ODEs:\n",
    "   * Planetary orbits\n",
    "   * Euler's three problem"
   ]
  },
  {
   "cell_type": "code",
   "execution_count": 1,
   "metadata": {
    "collapsed": true
   },
   "outputs": [],
   "source": [
    "import numpy as np\n",
    "import matplotlib.pyplot as plt\n",
    "%matplotlib inline\n",
    "import scipy.integrate as spi\n",
    "import scipy.linalg as la"
   ]
  },
  {
   "cell_type": "code",
   "execution_count": 2,
   "metadata": {
    "collapsed": true
   },
   "outputs": [],
   "source": [
    "from sympy.integrals import integrate"
   ]
  },
  {
   "cell_type": "markdown",
   "metadata": {},
   "source": [
    "## Planetary orbits"
   ]
  },
  {
   "cell_type": "markdown",
   "metadata": {},
   "source": [
    "The force of gravity of a mass $M$ acting on a mass $m$ is:\n",
    "\n",
    "$$\n",
    "F = \\frac{G M m}{d^2}\n",
    "$$\n",
    "\n",
    "Where $d$ is the distance between them and $G$ is the gravitaional constant. If we choose to measure time in years, distance in AU, and mass in $M_o$ then $G = 4 \\pi^2$"
   ]
  },
  {
   "cell_type": "markdown",
   "metadata": {},
   "source": [
    "The direction of the force acting on the mass $m$ is in the direction towards the mass $M$. If we fix the mass $M$ at the orgin $(0,0)$ then the x and y components of gravity acting on $m$ is:\n",
    "\n",
    "$$\n",
    "F_x = - \\frac{G M m}{(x^2+y^2)^{3/2}} x\n",
    "$$\n",
    "$$\n",
    "F_y = - \\frac{G M m}{(x^2+y^2)^{3/2}} y\n",
    "$$\n"
   ]
  },
  {
   "cell_type": "markdown",
   "metadata": {},
   "source": [
    "Using Newton's law of motion $F=ma$ we can write the x and y components of the acceleration as:\n",
    "\n",
    "$$\n",
    "x'' = - \\frac{G M}{(x^2+y^2)^{3/2}} x\n",
    "$$\n",
    "$$\n",
    "y'' = - \\frac{G M}{(x^2+y^2)^{3/2}} y\n",
    "$$"
   ]
  },
  {
   "cell_type": "markdown",
   "metadata": {},
   "source": [
    "This is a 2 dimentional sysytem of second order ODEs. To rewrite as a first order system, let's introduce variables $u_0=x$,$u_1 = x'$,$u_2=y$, and $u_3 = y'$."
   ]
  },
  {
   "cell_type": "markdown",
   "metadata": {},
   "source": [
    "$$\n",
    "\\begin{align}\n",
    "u_0' &= u_1 \\\\\n",
    "u_1' &= - \\frac{G M}{(u_0^2+u_2^2)^{3/2}} u_0 \\\\\n",
    "u_2' &= u_3 \\\\\n",
    "u_3' &= - \\frac{G M}{(u_0^2+u_2^2)^{3/2}} u_2 \\\\\n",
    "\\end{align}\n",
    "$$\n",
    "\n",
    "This is a 4D system. Let's use `odeint` to solve!"
   ]
  },
  {
   "cell_type": "code",
   "execution_count": 6,
   "metadata": {
    "collapsed": false
   },
   "outputs": [
    {
     "data": {
      "image/png": "[encoded data removed]",
      "text/plain": [
       "<matplotlib.figure.Figure at 0x7f5000aa0588>"
      ]
     },
     "metadata": {},
     "output_type": "display_data"
    }
   ],
   "source": [
    "G = 4*np.pi**2\n",
    "M =1\n",
    "initial_u = (1,0,0,2*np.pi)\n",
    "\n",
    "def f(u,t):\n",
    "    dudt = [0,0,0,0]\n",
    "    d2 = (u[0]**2 + u[2]**2)\n",
    "    dudt[0] = u[1]\n",
    "    dudt[1] = -G*M*u[0] / d2**(3/2)\n",
    "    dudt[2] = u[3]\n",
    "    dudt[3] = -G*M*u[2] / d2**(3/2)\n",
    "    return dudt\n",
    "\n",
    "t = np.linspace(0,2,200)\n",
    "U = spi.odeint(f,initial_u,t)\n",
    "\n",
    "plt.plot(U[:,0],U[:,2]), plt.axis('equal');"
   ]
  },
  {
   "cell_type": "code",
   "execution_count": null,
   "metadata": {
    "collapsed": true
   },
   "outputs": [],
   "source": []
  }
 ],
 "metadata": {
  "kernelspec": {
   "display_name": "Python 3",
   "language": "python",
   "name": "python3"
  },
  "language_info": {
   "codemirror_mode": {
    "name": "ipython",
    "version": 3
   },
   "file_extension": ".py",
   "mimetype": "text/x-python",
   "name": "python",
   "nbconvert_exporter": "python",
   "pygments_lexer": "ipython3",
   "version": "3.5.2"
  }
 },
 "nbformat": 4,
 "nbformat_minor": 2
}
