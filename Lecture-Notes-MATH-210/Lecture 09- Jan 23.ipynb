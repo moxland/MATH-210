{
 "cells": [
  {
   "cell_type": "markdown",
   "metadata": {},
   "source": [
    "# Math 210 Introduction to Mathematical Computing\n",
    "\n",
    "## January 23, 2017\n",
    "\n",
    "1. More about for loops\n",
    "   * Constructing sequences\n",
    "   * Sequences by formulas (nonrecursive)\n",
    "   * Recursive sequences\n",
    "2. While loops\n",
    "3. Exercises"
   ]
  },
  {
   "cell_type": "markdown",
   "metadata": {},
   "source": [
    "## 1. More about for loops\n",
    "\n",
    "### Constructing sequences\n",
    "\n",
    "There are several ways to construct a sequence of values and to save them as a python list.\n",
    "\n",
    "For example we have list comprehensions:"
   ]
  },
  {
   "cell_type": "code",
   "execution_count": 1,
   "metadata": {
    "collapsed": false
   },
   "outputs": [
    {
     "data": {
      "text/plain": [
       "[1, 4, 9, 16, 25, 36, 49, 64, 81]"
      ]
     },
     "execution_count": 1,
     "metadata": {},
     "output_type": "execute_result"
    }
   ],
   "source": [
    "[d**2 for d in range(1,10)]"
   ]
  },
  {
   "cell_type": "markdown",
   "metadata": {},
   "source": [
    "But we can only use list comprehensions when the sequence values are defined by a formula. This is called a nonrecursive sequence."
   ]
  },
  {
   "cell_type": "markdown",
   "metadata": {},
   "source": [
    "But what if we want to construct a sequence where the next value depends on the previous value?\n",
    "\n",
    "Consider the Fibonacci sequence:"
   ]
  },
  {
   "cell_type": "markdown",
   "metadata": {},
   "source": [
    "$$\n",
    "x_1 = 1, x_2 = 1, x_3 = 2, x_4 = 3, x_5 = 5, ...\n",
    "$$\n",
    "\n",
    "where \n",
    "$$\n",
    "x_n = x_{n-1} + x_{n-2}\n",
    "$$\n",
    "\n",
    "We can't use a list comprehension to build the list of Fibonacci numbers, and so we use a for loopp instead."
   ]
  },
  {
   "cell_type": "code",
   "execution_count": 4,
   "metadata": {
    "collapsed": false
   },
   "outputs": [
    {
     "name": "stdout",
     "output_type": "stream",
     "text": [
      "[1, 1, 2]\n",
      "[1, 1, 2, 3]\n",
      "[1, 1, 2, 3, 5]\n",
      "[1, 1, 2, 3, 5, 8]\n",
      "[1, 1, 2, 3, 5, 8, 13]\n",
      "[1, 1, 2, 3, 5, 8, 13, 21]\n",
      "[1, 1, 2, 3, 5, 8, 13, 21, 34]\n",
      "[1, 1, 2, 3, 5, 8, 13, 21, 34, 55]\n",
      "[1, 1, 2, 3, 5, 8, 13, 21, 34, 55, 89]\n",
      "[1, 1, 2, 3, 5, 8, 13, 21, 34, 55, 89, 144]\n",
      "[1, 1, 2, 3, 5, 8, 13, 21, 34, 55, 89, 144, 233]\n",
      "[1, 1, 2, 3, 5, 8, 13, 21, 34, 55, 89, 144, 233, 377]\n",
      "[1, 1, 2, 3, 5, 8, 13, 21, 34, 55, 89, 144, 233, 377, 610]\n"
     ]
    }
   ],
   "source": [
    "fib_list = [1,1]\n",
    "for n in range(2,15):\n",
    "    fib_list_n = fib_list[n-1] + fib_list[n-2]\n",
    "    fib_list.append(fib_list_n)\n",
    "    print(fib_list)"
   ]
  },
  {
   "cell_type": "markdown",
   "metadata": {},
   "source": [
    "Let's write a function called `fib_less_than` which takes one input $N$ and returns the list of Fibonacci numbers less than $N$."
   ]
  },
  {
   "cell_type": "code",
   "execution_count": 5,
   "metadata": {
    "collapsed": true
   },
   "outputs": [],
   "source": [
    "def fib_less_than(N):\n",
    "    \"\"\"Compute the list of Fibonacci numbers less than N.\"\"\"\n",
    "    fib_list = [1,1]\n",
    "    for n in range(2,N):\n",
    "        fib_list_n = fib_list[n-1] + fib_list[n-2]\n",
    "        if fib_list_n < N:\n",
    "            fib_list.append(fib_list_n)\n",
    "        else:\n",
    "            # stop the loop if the last Fibonacci number computed is bigger than N\n",
    "            break\n",
    "    return fib_list"
   ]
  },
  {
   "cell_type": "code",
   "execution_count": 6,
   "metadata": {
    "collapsed": false
   },
   "outputs": [
    {
     "data": {
      "text/plain": [
       "[1, 1, 2, 3, 5, 8, 13]"
      ]
     },
     "execution_count": 6,
     "metadata": {},
     "output_type": "execute_result"
    }
   ],
   "source": [
    "fib_less_than(20)"
   ]
  },
  {
   "cell_type": "code",
   "execution_count": 7,
   "metadata": {
    "collapsed": false
   },
   "outputs": [
    {
     "data": {
      "text/plain": [
       "[1, 1, 2, 3, 5, 8, 13, 21, 34, 55, 89]"
      ]
     },
     "execution_count": 7,
     "metadata": {},
     "output_type": "execute_result"
    }
   ],
   "source": [
    "fib_less_than(100)"
   ]
  },
  {
   "cell_type": "markdown",
   "metadata": {},
   "source": [
    "Write a function called `collatz` which takes one input paramter $a$ and computes the Collatz sequence defined by:\n",
    "\n",
    "$$\n",
    "x_{n+1} = \\left\\{ \\begin{array}{cc} x_n / 2 & \\text{if } x_n \\text{ is even} \\\\ 3x_n + 1 & \\text{if } x_n \\text{ is odd} \\end{array} \\right.\n",
    "$$\n",
    "\n",
    "where $x_0 = a$ and the sequence terminates at 1.\n",
    "\n",
    "For example, if $a = 10$ then $x_0 = 10$, $x_1 = 5$, $x_2 = 16$, $x_3 = 8$, $x_4 = 4$, $x_5 = 2$ and $x_6 = 1$."
   ]
  },
  {
   "cell_type": "code",
   "execution_count": 8,
   "metadata": {
    "collapsed": true
   },
   "outputs": [],
   "source": [
    "def collatz(a):\n",
    "    \"\"\"Compute the Collatz sequence starting at a.\"\"\"\n",
    "    # Initialize the sequence with the first value a.\n",
    "    x_list = [a]\n",
    "    # Continue computing values in the sequence until we reach 1.\n",
    "    while x_list[-1] != 1:\n",
    "        # Check if the last element in the list is even\n",
    "        if x_list[-1] % 2 == 0:\n",
    "            # Compute and append the new values\n",
    "            x_list.append(x_list[-1] // 2)\n",
    "        else:\n",
    "            # Compute and append the new list\n",
    "            x_list.append(3*x_list[-1] + 1)\n",
    "        print(x_list)\n",
    "    return x_list"
   ]
  },
  {
   "cell_type": "code",
   "execution_count": 9,
   "metadata": {
    "collapsed": false
   },
   "outputs": [
    {
     "name": "stdout",
     "output_type": "stream",
     "text": [
      "[10, 5]\n",
      "[10, 5, 16]\n",
      "[10, 5, 16, 8]\n",
      "[10, 5, 16, 8, 4]\n",
      "[10, 5, 16, 8, 4, 2]\n",
      "[10, 5, 16, 8, 4, 2, 1]\n"
     ]
    },
    {
     "data": {
      "text/plain": [
       "[10, 5, 16, 8, 4, 2, 1]"
      ]
     },
     "execution_count": 9,
     "metadata": {},
     "output_type": "execute_result"
    }
   ],
   "source": [
    "collatz(10)"
   ]
  },
  {
   "cell_type": "markdown",
   "metadata": {
    "collapsed": true
   },
   "source": [
    "## Exercises\n",
    "\n",
    "1. "
   ]
  },
  {
   "cell_type": "code",
   "execution_count": 10,
   "metadata": {
    "collapsed": true
   },
   "outputs": [],
   "source": [
    "def reciprocal_recursion(x_0,x_1,N):\n",
    "    for n in range(1,N+1):\n",
    "        x_n = 1/(n)+ 1/(n+1)\n",
    "    return x_n"
   ]
  },
  {
   "cell_type": "code",
   "execution_count": 11,
   "metadata": {
    "collapsed": false
   },
   "outputs": [
    {
     "data": {
      "text/plain": [
       "0.5833333333333333"
      ]
     },
     "execution_count": 11,
     "metadata": {},
     "output_type": "execute_result"
    }
   ],
   "source": [
    "reciprocal_recursion(2,5,3)"
   ]
  },
  {
   "cell_type": "markdown",
   "metadata": {},
   "source": [
    "2."
   ]
  },
  {
   "cell_type": "code",
   "execution_count": 12,
   "metadata": {
    "collapsed": true
   },
   "outputs": [],
   "source": [
    "def root_sequence(a,N):\n",
    "    x = a\n",
    "    for n in range(1,N):\n",
    "        x = 1 + (x)**0.5\n",
    "    return x"
   ]
  },
  {
   "cell_type": "code",
   "execution_count": 13,
   "metadata": {
    "collapsed": false
   },
   "outputs": [
    {
     "data": {
      "text/plain": [
       "2.5537739740300376"
      ]
     },
     "execution_count": 13,
     "metadata": {},
     "output_type": "execute_result"
    }
   ],
   "source": [
    "root_sequence(1,4)"
   ]
  },
  {
   "cell_type": "markdown",
   "metadata": {},
   "source": [
    "3."
   ]
  },
  {
   "cell_type": "code",
   "execution_count": 14,
   "metadata": {
    "collapsed": true
   },
   "outputs": [],
   "source": [
    "def is_prime(N):\n",
    "    \"Determine whether or not N is a prime number.\"\n",
    "    if N <= 1:\n",
    "        return False\n",
    "    # N is prime of N is only divisble by 1 and itself\n",
    "    # We should test whether N is divisible by d for all 1 < d < N\n",
    "    for d in range(2,N):\n",
    "        # Check if N is divisible by d\n",
    "        if N % d == 0:\n",
    "            return False\n",
    "        # If we exit the for loop, then N is not divisible by any d and N is prime\n",
    "    return True"
   ]
  },
  {
   "cell_type": "code",
   "execution_count": 15,
   "metadata": {
    "collapsed": true
   },
   "outputs": [],
   "source": [
    "def fibonacci_primes(N):\n",
    "    a_list = []\n",
    "    for n in fib_less_than(N):\n",
    "        if is_prime(n) == True:\n",
    "            a_list.append(n)\n",
    "    return a_list"
   ]
  },
  {
   "cell_type": "code",
   "execution_count": 16,
   "metadata": {
    "collapsed": false
   },
   "outputs": [
    {
     "data": {
      "text/plain": [
       "[2, 3, 5, 13]"
      ]
     },
     "execution_count": 16,
     "metadata": {},
     "output_type": "execute_result"
    }
   ],
   "source": [
    "fibonacci_primes(50)"
   ]
  },
  {
   "cell_type": "code",
   "execution_count": 17,
   "metadata": {
    "collapsed": false
   },
   "outputs": [
    {
     "data": {
      "text/plain": [
       "[2, 3, 5, 13, 89]"
      ]
     },
     "execution_count": 17,
     "metadata": {},
     "output_type": "execute_result"
    }
   ],
   "source": [
    "fibonacci_primes(100)"
   ]
  },
  {
   "cell_type": "code",
   "execution_count": null,
   "metadata": {
    "collapsed": true
   },
   "outputs": [],
   "source": []
  }
 ],
 "metadata": {
  "kernelspec": {
   "display_name": "Python 3",
   "language": "python",
   "name": "python3"
  },
  "language_info": {
   "codemirror_mode": {
    "name": "ipython",
    "version": 3
   },
   "file_extension": ".py",
   "mimetype": "text/x-python",
   "name": "python",
   "nbconvert_exporter": "python",
   "pygments_lexer": "ipython3",
   "version": "3.5.2"
  }
 },
 "nbformat": 4,
 "nbformat_minor": 1
}
