{
 "cells": [
  {
   "cell_type": "markdown",
   "metadata": {},
   "source": [
    "# <span style=\"color: purple\">MATH 210 Assignment 1</span>"
   ]
  },
  {
   "cell_type": "markdown",
   "metadata": {},
   "source": [
    "## Question 1\n",
    "\n",
    "![Calgary](https://www.reminetwork.com/wp-content/uploads/rsz_fotolia_62712606_subscription_xl.jpg)\n",
    "\n",
    "(Image courtesy of [reminetwork.com](https://www.reminetwork.com/articles/boma-calgary-fetes-toby-award-winners/))\n",
    "\n",
    "I would consider my favourite city at this point in my life to be **Calgary**. Located in the province of Alberta, Calgary is the fifth largest city in Canada with a population of [1.2 million](https://www.currentresults.com/Weather-Extremes/Canada/largest-canadian-cities-list.php). Just a quick 80km drive from the beautiful Rocky Mountains and 110km drive to Drumheller (home of the famous *Royal Tyrrell Museum*), Calgary is at the center of countless activites all year long. Some of the attractions of this great city include the [Calgary Zoo](https://www.calgaryzoo.com), [Heritage Park](http://www.heritagepark.ca), [Calaway Park](http://www.calawaypark.com), [Canada Olympic Park](http://www.winsport.ca), [Bowness Park](http://www.calgary.ca/CSPS/Parks/Pages/Locations/NW-parks/Bowness-Park.aspx), and the [Calgary Stampede](http://www.calgarystampede.com). Considered the *Greatest Outdoor Show on Earth*, the Calgary Stampede is a ten day annual event which features a rodeo, chuckwagon races, a midway (consisting of rides and food), agricultural competitions and First Nations exhibitions. This event attracts *one million* visitors per year from all over the world, allowing the event to really live up to it's name. My family moved to Calgary from London, Ontario in 2003 and we haven't looked back since. I have met my best friends in this city and I will always consider it one of the best cities in the world, no matter where I move to in the future.           "
   ]
  },
  {
   "cell_type": "markdown",
   "metadata": {},
   "source": [
    "## Question 2\n",
    "\n",
    "My favourite courses I have taken so far are:\n",
    "* First Year\n",
    "    * [MATH 100 Differential Calculus with Applications to Physical Sciences and Engineering](https://courses.students.ubc.ca/cs/main?pname=subjarea&tname=subjareas&req=3&dept=MATH&course=100)\n",
    "    * [ASTR 101 Introduction to the Solar System](https://courses.students.ubc.ca/cs/main?pname=subjarea&tname=subjareas&req=3&dept=ASTR&course=101)\n",
    "    * [FIST 100 Introduction to Film Studies](https://courses.students.ubc.ca/cs/main?pname=subjarea&tname=subjareas&req=3&dept=FIST&course=100)\n",
    "\n",
    "* Second Year\n",
    "    * [MATH 200 Calculus III](https://courses.students.ubc.ca/cs/main?pname=subjarea&tname=subjareas&req=3&dept=MATH&course=200) \n",
    "    * [MATH 221 Matrix Algebra](https://courses.students.ubc.ca/cs/main?pname=subjarea&tname=subjareas&req=3&dept=MATH&course=221)\n",
    "    * [ASTR 200 Frontiers of Astrophysics](https://courses.students.ubc.ca/cs/main?pname=subjarea&tname=subjareas&req=3&dept=ASTR&course=200)\n"
   ]
  },
  {
   "cell_type": "markdown",
   "metadata": {},
   "source": [
    "## Question 3\n",
    "The system of linear equations is: \n",
    "\n",
    "$$\n",
    "\\begin{bmatrix} 5 & 2 & 1 \\\\ 3 & 7 & 5 \\\\ 2 & 0 & 4 \\end{bmatrix}\n",
    "\\hspace{2mm}\n",
    "\\begin{bmatrix} x_1 \\\\ x_2 \\\\ x_3 \\end{bmatrix} =\n",
    "\\begin{bmatrix} 0 \\\\ 1 \\\\ 3 \\end{bmatrix}\n",
    "$$"
   ]
  },
  {
   "cell_type": "markdown",
   "metadata": {},
   "source": [
    "## Question 4\n",
    "The Maxwell-Faraday equation is:\n",
    "\n",
    "$$\n",
    "\\oint_{\\partial \\Sigma} \\mathbf{E} \\cdot d \\boldsymbol{\\ell} =\n",
    "-\\frac{d}{d t} \\int \\hspace{-2mm} \\int_{\\Sigma} \\mathbf{B} \\cdot d \\mathbf{S} \n",
    "$$"
   ]
  },
  {
   "cell_type": "markdown",
   "metadata": {},
   "source": [
    "## Question 5\n",
    "\n",
    "The Black-Scholes equation is:\n",
    "\n",
    "$$\n",
    "\\frac{\\partial V}{\\partial t} + \n",
    "\\frac{1}{2} \\sigma^2 S^2 \\frac{\\partial^2 V}{\\partial S^2} +\n",
    "r S \\frac{\\partial V}{\\partial S} -\n",
    "r V = 0\n",
    "$$\n"
   ]
  },
  {
   "cell_type": "markdown",
   "metadata": {
    "collapsed": true
   },
   "source": [
    "## Question 6\n",
    "\n",
    "In ASTR 200 we learned about the Friedmann equation which represents the expansion of the universe while linking $a(t)$ (scale factor), $k$ (curvature constant), and $r_{c, 0}$ (radius of curvature). This equation in it's relativistic form is:\n",
    "\n",
    "$$\n",
    "\\left(\\frac{\\dot{a}}{a} \\right)^2 =\n",
    "\\frac{8 \\pi G}{3 c^2} u(t) -\n",
    "\\frac{k c^2}{r^2_{c,0}} \\frac{1}{a(t)^2} +\n",
    "\\frac{\\Lambda}{3}\n",
    "$$\n",
    "\n",
    "where $u(t)$ is an energy density, and $\\Lambda$ is the cosmological constant.\n",
    "\n",
    "This equation interests me because I never knew before taking ASTR 200 that the expansion of the universe could be represented by an equation that I could understand relatively well. Although the derivation is extrememly difficult and would require higher level math courses, it amazes me to think that this equation can explain one of the many mysteries of the universe.    \n",
    "\n"
   ]
  }
 ],
 "metadata": {
  "kernelspec": {
   "display_name": "Python 3",
   "language": "python",
   "name": "python3"
  },
  "language_info": {
   "codemirror_mode": {
    "name": "ipython",
    "version": 3
   },
   "file_extension": ".py",
   "mimetype": "text/x-python",
   "name": "python",
   "nbconvert_exporter": "python",
   "pygments_lexer": "ipython3",
   "version": "3.5.2"
  }
 },
 "nbformat": 4,
 "nbformat_minor": 1
}
